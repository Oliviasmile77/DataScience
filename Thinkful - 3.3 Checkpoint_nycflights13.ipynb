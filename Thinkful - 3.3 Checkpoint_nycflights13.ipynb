{
 "cells": [
  {
   "cell_type": "code",
   "execution_count": 5,
   "metadata": {},
   "outputs": [
    {
     "name": "stdout",
     "output_type": "stream",
     "text": [
      "<class 'pandas.core.frame.DataFrame'>\n",
      "Int64Index: 336776 entries, 0 to 336775\n",
      "Data columns (total 20 columns):\n",
      "carrier           336776 non-null object\n",
      "name              336776 non-null object\n",
      "year              336776 non-null int64\n",
      "month             336776 non-null int64\n",
      "day               336776 non-null int64\n",
      "dep_time          328521 non-null float64\n",
      "sched_dep_time    336776 non-null int64\n",
      "dep_delay         328521 non-null float64\n",
      "arr_time          328063 non-null float64\n",
      "sched_arr_time    336776 non-null int64\n",
      "arr_delay         327346 non-null float64\n",
      "flight            336776 non-null int64\n",
      "tailnum           334264 non-null object\n",
      "origin            336776 non-null object\n",
      "dest              336776 non-null object\n",
      "air_time          327346 non-null float64\n",
      "distance          336776 non-null int64\n",
      "hour              336776 non-null int64\n",
      "minute            336776 non-null int64\n",
      "time_hour         336776 non-null object\n",
      "dtypes: float64(5), int64(9), object(6)\n",
      "memory usage: 54.0+ MB\n"
     ]
    }
   ],
   "source": [
    "import pandas as pd\n",
    "\n",
    "airlines = pd.read_csv(r'C:\\Users\\ojiang1\\Desktop\\Data Science\\airlines.csv')\n",
    "flights = pd.read_csv(r'C:\\Users\\ojiang1\\Desktop\\Data Science\\flights.csv')\n",
    "\n",
    "nycflights13 = pd.merge(airlines, flights)\n",
    "nycflights13.info()\n",
    "\n"
   ]
  },
  {
   "cell_type": "code",
   "execution_count": 6,
   "metadata": {},
   "outputs": [
    {
     "name": "stdout",
     "output_type": "stream",
     "text": [
      "<class 'pandas.core.frame.DataFrame'>\n",
      "Int64Index: 327346 entries, 0 to 336775\n",
      "Data columns (total 20 columns):\n",
      "carrier           327346 non-null object\n",
      "name              327346 non-null object\n",
      "year              327346 non-null int64\n",
      "month             327346 non-null int64\n",
      "day               327346 non-null int64\n",
      "dep_time          327346 non-null float64\n",
      "sched_dep_time    327346 non-null int64\n",
      "dep_delay         327346 non-null float64\n",
      "arr_time          327346 non-null float64\n",
      "sched_arr_time    327346 non-null int64\n",
      "arr_delay         327346 non-null float64\n",
      "flight            327346 non-null int64\n",
      "tailnum           327346 non-null object\n",
      "origin            327346 non-null object\n",
      "dest              327346 non-null object\n",
      "air_time          327346 non-null float64\n",
      "distance          327346 non-null int64\n",
      "hour              327346 non-null int64\n",
      "minute            327346 non-null int64\n",
      "time_hour         327346 non-null object\n",
      "dtypes: float64(5), int64(9), object(6)\n",
      "memory usage: 52.4+ MB\n"
     ]
    }
   ],
   "source": [
    "new=nycflights13.dropna()\n",
    "\n",
    "new.info()\n",
    "\n",
    "# there are missing values since the entries number changed."
   ]
  },
  {
   "cell_type": "code",
   "execution_count": null,
   "metadata": {},
   "outputs": [],
   "source": []
  }
 ],
 "metadata": {
  "kernelspec": {
   "display_name": "Python 3",
   "language": "python",
   "name": "python3"
  },
  "language_info": {
   "codemirror_mode": {
    "name": "ipython",
    "version": 3
   },
   "file_extension": ".py",
   "mimetype": "text/x-python",
   "name": "python",
   "nbconvert_exporter": "python",
   "pygments_lexer": "ipython3",
   "version": "3.7.1"
  }
 },
 "nbformat": 4,
 "nbformat_minor": 2
}
