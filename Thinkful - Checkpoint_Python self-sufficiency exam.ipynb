{
 "cells": [
  {
   "cell_type": "markdown",
   "metadata": {},
   "source": [
    "1. Create a function that reverses a string. For example, given the string \"forward\", your function should return \"drawrof\". Assume all inputs are strings."
   ]
  },
  {
   "cell_type": "code",
   "execution_count": 2,
   "metadata": {},
   "outputs": [
    {
     "data": {
      "text/plain": [
       "'drawrof '"
      ]
     },
     "execution_count": 2,
     "metadata": {},
     "output_type": "execute_result"
    }
   ],
   "source": [
    "def reverse(s):\n",
    "    word = ' '\n",
    "    for i in s:\n",
    "        word = i + word\n",
    "    return word\n",
    "\n",
    "reverse('forward')\n",
    "    "
   ]
  },
  {
   "cell_type": "markdown",
   "metadata": {},
   "source": [
    "2. Complete the function below that can be used to calculate and return the posterior probability of an event A, given the known outcome of Event B using Bayes Theorem:\n",
    "    Args:\n",
    "        a: P(A)\n",
    "        b_given_a: P(B | A)\n",
    "        b_given_not_a: P(B | ~A)"
   ]
  },
  {
   "cell_type": "code",
   "execution_count": 6,
   "metadata": {},
   "outputs": [
    {
     "data": {
      "text/plain": [
       "0.16666666666666669"
      ]
     },
     "execution_count": 6,
     "metadata": {},
     "output_type": "execute_result"
    }
   ],
   "source": [
    "def bayes(a, b_given_a, b_given_not_a):\n",
    "    not_a = 1-a\n",
    "    a_given_b = b_given_a * a / (a*b_given_a + not_a*b_given_not_a)\n",
    "    return a_given_b\n",
    "\n",
    "bayes(.2,.4,0.5)"
   ]
  },
  {
   "cell_type": "markdown",
   "metadata": {},
   "source": [
    "3. Analyze the teams dataset from the Lahman baseball records. This dataset contains season statistics for each Major League Baseball team.\n",
    "\n",
    "a. For all records since 1995, plot histograms for the following variables. Which distribution do they appear to follow? Consider what each variable is measuring along with the histogram's shape.\n",
    "\n",
    " - Stolen bases per game- SB\n",
    " - Wins-W\n",
    " - Earned run average-ERA"
   ]
  },
  {
   "cell_type": "code",
   "execution_count": 31,
   "metadata": {
    "scrolled": true
   },
   "outputs": [
    {
     "data": {
      "text/plain": [
       "<matplotlib.axes._subplots.AxesSubplot at 0x256466ebd30>"
      ]
     },
     "execution_count": 31,
     "metadata": {},
     "output_type": "execute_result"
    },
    {
     "data": {
      "image/png": "[encoded data removed]",
      "text/plain": [
       "<Figure size 432x288 with 1 Axes>"
      ]
     },
     "metadata": {
      "needs_background": "light"
     },
     "output_type": "display_data"
    }
   ],
   "source": [
    "import pandas as pd\n",
    "import seaborn as sns \n",
    "import matplotlib.pyplot as plt\n",
    "\n",
    "df = pd.read_csv(r'C:\\Users\\ojiang1\\Desktop\\Data Science\\Sample data for checkpoint\\lahman-teams.csv')\n",
    "\n",
    "df_95=df[df.yearID>=1995]\n",
    "\n",
    "SBPG=df_95.SB\n",
    "SBPG.hist()\n",
    "# Poisson distribution: represents the number of times a given event will occur during a given time interval. "
   ]
  },
  {
   "cell_type": "code",
   "execution_count": 32,
   "metadata": {
    "scrolled": true
   },
   "outputs": [
    {
     "data": {
      "text/plain": [
       "<matplotlib.axes._subplots.AxesSubplot at 0x2564696d4e0>"
      ]
     },
     "execution_count": 32,
     "metadata": {},
     "output_type": "execute_result"
    },
    {
     "data": {
      "image/png": "[encoded data removed]",
      "text/plain": [
       "<Figure size 432x288 with 1 Axes>"
      ]
     },
     "metadata": {
      "needs_background": "light"
     },
     "output_type": "display_data"
    }
   ],
   "source": [
    "Win=df_95.W\n",
    "Win.hist()\n",
    "#Binomial distribution: represents the number of successes when an event with two or more distinct possible outcomes is repeated many time"
   ]
  },
  {
   "cell_type": "code",
   "execution_count": 33,
   "metadata": {},
   "outputs": [
    {
     "data": {
      "text/plain": [
       "<matplotlib.axes._subplots.AxesSubplot at 0x256464d8518>"
      ]
     },
     "execution_count": 33,
     "metadata": {},
     "output_type": "execute_result"
    },
    {
     "data": {
      "image/png": "[encoded data removed]",
      "text/plain": [
       "<Figure size 432x288 with 1 Axes>"
      ]
     },
     "metadata": {
      "needs_background": "light"
     },
     "output_type": "display_data"
    }
   ],
   "source": [
    "Earned_run_avg=df_95.ERA\n",
    "Earned_run_avg.hist()\n",
    "#normal distribution"
   ]
  },
  {
   "cell_type": "markdown",
   "metadata": {},
   "source": [
    "b. Conduct some further exploratory data analysis on this dataset. Consider qualities like distributions, correlations and trends over time. Try to find something interesting to say about the data, and use visualizations to support your argument."
   ]
  },
  {
   "cell_type": "code",
   "execution_count": 97,
   "metadata": {
    "scrolled": true
   },
   "outputs": [
    {
     "data": {
      "text/html": [
       "<div>\n",
       "<style scoped>\n",
       "    .dataframe tbody tr th:only-of-type {\n",
       "        vertical-align: middle;\n",
       "    }\n",
       "\n",
       "    .dataframe tbody tr th {\n",
       "        vertical-align: top;\n",
       "    }\n",
       "\n",
       "    .dataframe thead th {\n",
       "        text-align: right;\n",
       "    }\n",
       "</style>\n",
       "<table border=\"1\" class=\"dataframe\">\n",
       "  <thead>\n",
       "    <tr style=\"text-align: right;\">\n",
       "      <th></th>\n",
       "      <th>yearID</th>\n",
       "      <th>lgID</th>\n",
       "      <th>teamID</th>\n",
       "      <th>franchID</th>\n",
       "      <th>divID</th>\n",
       "      <th>Rank</th>\n",
       "      <th>G</th>\n",
       "      <th>Ghome</th>\n",
       "      <th>W</th>\n",
       "      <th>L</th>\n",
       "      <th>...</th>\n",
       "      <th>DP</th>\n",
       "      <th>FP</th>\n",
       "      <th>name</th>\n",
       "      <th>park</th>\n",
       "      <th>attendance</th>\n",
       "      <th>BPF</th>\n",
       "      <th>PPF</th>\n",
       "      <th>teamIDBR</th>\n",
       "      <th>teamIDlahman45</th>\n",
       "      <th>teamIDretro</th>\n",
       "    </tr>\n",
       "  </thead>\n",
       "  <tbody>\n",
       "    <tr>\n",
       "      <th>2325</th>\n",
       "      <td>2000</td>\n",
       "      <td>AL</td>\n",
       "      <td>ANA</td>\n",
       "      <td>ANA</td>\n",
       "      <td>W</td>\n",
       "      <td>3</td>\n",
       "      <td>162</td>\n",
       "      <td>81.0</td>\n",
       "      <td>82</td>\n",
       "      <td>80</td>\n",
       "      <td>...</td>\n",
       "      <td>182.0</td>\n",
       "      <td>0.978</td>\n",
       "      <td>Anaheim Angels</td>\n",
       "      <td>Edison International Field</td>\n",
       "      <td>2066982.0</td>\n",
       "      <td>102</td>\n",
       "      <td>103</td>\n",
       "      <td>ANA</td>\n",
       "      <td>ANA</td>\n",
       "      <td>ANA</td>\n",
       "    </tr>\n",
       "    <tr>\n",
       "      <th>2326</th>\n",
       "      <td>2000</td>\n",
       "      <td>NL</td>\n",
       "      <td>ARI</td>\n",
       "      <td>ARI</td>\n",
       "      <td>W</td>\n",
       "      <td>3</td>\n",
       "      <td>162</td>\n",
       "      <td>81.0</td>\n",
       "      <td>85</td>\n",
       "      <td>77</td>\n",
       "      <td>...</td>\n",
       "      <td>138.0</td>\n",
       "      <td>0.982</td>\n",
       "      <td>Arizona Diamondbacks</td>\n",
       "      <td>Bank One Ballpark</td>\n",
       "      <td>2942251.0</td>\n",
       "      <td>105</td>\n",
       "      <td>103</td>\n",
       "      <td>ARI</td>\n",
       "      <td>ARI</td>\n",
       "      <td>ARI</td>\n",
       "    </tr>\n",
       "    <tr>\n",
       "      <th>2327</th>\n",
       "      <td>2000</td>\n",
       "      <td>NL</td>\n",
       "      <td>ATL</td>\n",
       "      <td>ATL</td>\n",
       "      <td>E</td>\n",
       "      <td>1</td>\n",
       "      <td>162</td>\n",
       "      <td>81.0</td>\n",
       "      <td>95</td>\n",
       "      <td>67</td>\n",
       "      <td>...</td>\n",
       "      <td>138.0</td>\n",
       "      <td>0.979</td>\n",
       "      <td>Atlanta Braves</td>\n",
       "      <td>Turner Field</td>\n",
       "      <td>3234304.0</td>\n",
       "      <td>101</td>\n",
       "      <td>99</td>\n",
       "      <td>ATL</td>\n",
       "      <td>ATL</td>\n",
       "      <td>ATL</td>\n",
       "    </tr>\n",
       "    <tr>\n",
       "      <th>2328</th>\n",
       "      <td>2000</td>\n",
       "      <td>AL</td>\n",
       "      <td>BAL</td>\n",
       "      <td>BAL</td>\n",
       "      <td>E</td>\n",
       "      <td>4</td>\n",
       "      <td>162</td>\n",
       "      <td>81.0</td>\n",
       "      <td>74</td>\n",
       "      <td>88</td>\n",
       "      <td>...</td>\n",
       "      <td>151.0</td>\n",
       "      <td>0.981</td>\n",
       "      <td>Baltimore Orioles</td>\n",
       "      <td>Oriole Park at Camden Yards</td>\n",
       "      <td>3297031.0</td>\n",
       "      <td>95</td>\n",
       "      <td>96</td>\n",
       "      <td>BAL</td>\n",
       "      <td>BAL</td>\n",
       "      <td>BAL</td>\n",
       "    </tr>\n",
       "    <tr>\n",
       "      <th>2329</th>\n",
       "      <td>2000</td>\n",
       "      <td>AL</td>\n",
       "      <td>BOS</td>\n",
       "      <td>BOS</td>\n",
       "      <td>E</td>\n",
       "      <td>2</td>\n",
       "      <td>162</td>\n",
       "      <td>81.0</td>\n",
       "      <td>85</td>\n",
       "      <td>77</td>\n",
       "      <td>...</td>\n",
       "      <td>120.0</td>\n",
       "      <td>0.982</td>\n",
       "      <td>Boston Red Sox</td>\n",
       "      <td>Fenway Park II</td>\n",
       "      <td>2585895.0</td>\n",
       "      <td>104</td>\n",
       "      <td>103</td>\n",
       "      <td>BOS</td>\n",
       "      <td>BOS</td>\n",
       "      <td>BOS</td>\n",
       "    </tr>\n",
       "  </tbody>\n",
       "</table>\n",
       "<p>5 rows × 48 columns</p>\n",
       "</div>"
      ],
      "text/plain": [
       "      yearID lgID teamID franchID divID  Rank    G  Ghome   W   L  \\\n",
       "2325    2000   AL    ANA      ANA     W     3  162   81.0  82  80   \n",
       "2326    2000   NL    ARI      ARI     W     3  162   81.0  85  77   \n",
       "2327    2000   NL    ATL      ATL     E     1  162   81.0  95  67   \n",
       "2328    2000   AL    BAL      BAL     E     4  162   81.0  74  88   \n",
       "2329    2000   AL    BOS      BOS     E     2  162   81.0  85  77   \n",
       "\n",
       "         ...          DP     FP                  name  \\\n",
       "2325     ...       182.0  0.978        Anaheim Angels   \n",
       "2326     ...       138.0  0.982  Arizona Diamondbacks   \n",
       "2327     ...       138.0  0.979        Atlanta Braves   \n",
       "2328     ...       151.0  0.981     Baltimore Orioles   \n",
       "2329     ...       120.0  0.982        Boston Red Sox   \n",
       "\n",
       "                             park  attendance  BPF  PPF  teamIDBR  \\\n",
       "2325   Edison International Field   2066982.0  102  103       ANA   \n",
       "2326            Bank One Ballpark   2942251.0  105  103       ARI   \n",
       "2327                 Turner Field   3234304.0  101   99       ATL   \n",
       "2328  Oriole Park at Camden Yards   3297031.0   95   96       BAL   \n",
       "2329               Fenway Park II   2585895.0  104  103       BOS   \n",
       "\n",
       "      teamIDlahman45  teamIDretro  \n",
       "2325             ANA          ANA  \n",
       "2326             ARI          ARI  \n",
       "2327             ATL          ATL  \n",
       "2328             BAL          BAL  \n",
       "2329             BOS          BOS  \n",
       "\n",
       "[5 rows x 48 columns]"
      ]
     },
     "execution_count": 97,
     "metadata": {},
     "output_type": "execute_result"
    }
   ],
   "source": [
    "df1=df.dropna()\n",
    "\n",
    "df1.groupby(['divID','yearID'])['ERA','W'].describe()\n",
    "\n",
    "df1.groupby(['divID'])['ERA','W'].describe()\n",
    "\n",
    "df1.head()"
   ]
  },
  {
   "cell_type": "code",
   "execution_count": 94,
   "metadata": {},
   "outputs": [
    {
     "data": {
      "text/plain": [
       "-0.6841367571563899"
      ]
     },
     "execution_count": 94,
     "metadata": {},
     "output_type": "execute_result"
    }
   ],
   "source": [
    "c=df1[df1['divID']=='C']\n",
    "e=df1[df1['divID']=='E']\n",
    "w=df1[df1['divID']=='W']\n",
    "\n",
    "c['ERA'].corr(c['W'])"
   ]
  },
  {
   "cell_type": "code",
   "execution_count": 91,
   "metadata": {},
   "outputs": [
    {
     "data": {
      "text/plain": [
       "-0.5720347793105088"
      ]
     },
     "execution_count": 91,
     "metadata": {},
     "output_type": "execute_result"
    }
   ],
   "source": [
    "e['ERA'].corr(e['W'])"
   ]
  },
  {
   "cell_type": "code",
   "execution_count": 92,
   "metadata": {},
   "outputs": [
    {
     "data": {
      "text/plain": [
       "-0.5669052753898063"
      ]
     },
     "execution_count": 92,
     "metadata": {},
     "output_type": "execute_result"
    }
   ],
   "source": [
    "w['ERA'].corr(w['W'])"
   ]
  },
  {
   "cell_type": "code",
   "execution_count": 76,
   "metadata": {},
   "outputs": [
    {
     "data": {
      "image/png": "[encoded data removed]",
      "text/plain": [
       "<Figure size 432x288 with 1 Axes>"
      ]
     },
     "metadata": {
      "needs_background": "light"
     },
     "output_type": "display_data"
    }
   ],
   "source": [
    "sns.scatterplot(x=\"ERA\", y=\"W\", hue=\"divID\", data=df1);"
   ]
  },
  {
   "cell_type": "code",
   "execution_count": 88,
   "metadata": {},
   "outputs": [
    {
     "data": {
      "image/png": "[encoded data removed]",
      "text/plain": [
       "<Figure size 1080x360 with 3 Axes>"
      ]
     },
     "metadata": {
      "needs_background": "light"
     },
     "output_type": "display_data"
    }
   ],
   "source": [
    "sns.catplot(y=\"W\", x = \"ERA\", col=\"divID\",kind=\"box\", data=df1);"
   ]
  },
  {
   "cell_type": "markdown",
   "metadata": {},
   "source": [
    "Supposably, the smaller the ERA the better chance to win. The negative relationship is proven given the correlations/plot for each division. however, three division react differently to ERA. \n",
    "So i want to look at what other stats affects the win.Based on the correlatio table below, FP is the second factor, next to ERA, that affacts win."
   ]
  },
  {
   "cell_type": "code",
   "execution_count": 98,
   "metadata": {},
   "outputs": [
    {
     "data": {
      "text/html": [
       "<div>\n",
       "<style scoped>\n",
       "    .dataframe tbody tr th:only-of-type {\n",
       "        vertical-align: middle;\n",
       "    }\n",
       "\n",
       "    .dataframe tbody tr th {\n",
       "        vertical-align: top;\n",
       "    }\n",
       "\n",
       "    .dataframe thead th {\n",
       "        text-align: right;\n",
       "    }\n",
       "</style>\n",
       "<table border=\"1\" class=\"dataframe\">\n",
       "  <thead>\n",
       "    <tr style=\"text-align: right;\">\n",
       "      <th></th>\n",
       "      <th>W</th>\n",
       "      <th>DP</th>\n",
       "      <th>FP</th>\n",
       "      <th>BPF</th>\n",
       "      <th>PPF</th>\n",
       "    </tr>\n",
       "  </thead>\n",
       "  <tbody>\n",
       "    <tr>\n",
       "      <th>W</th>\n",
       "      <td>1.000000</td>\n",
       "      <td>-0.190669</td>\n",
       "      <td>0.371307</td>\n",
       "      <td>0.060660</td>\n",
       "      <td>-0.073037</td>\n",
       "    </tr>\n",
       "    <tr>\n",
       "      <th>DP</th>\n",
       "      <td>-0.190669</td>\n",
       "      <td>1.000000</td>\n",
       "      <td>-0.056134</td>\n",
       "      <td>0.076468</td>\n",
       "      <td>0.106442</td>\n",
       "    </tr>\n",
       "    <tr>\n",
       "      <th>FP</th>\n",
       "      <td>0.371307</td>\n",
       "      <td>-0.056134</td>\n",
       "      <td>1.000000</td>\n",
       "      <td>0.070591</td>\n",
       "      <td>0.008012</td>\n",
       "    </tr>\n",
       "    <tr>\n",
       "      <th>BPF</th>\n",
       "      <td>0.060660</td>\n",
       "      <td>0.076468</td>\n",
       "      <td>0.070591</td>\n",
       "      <td>1.000000</td>\n",
       "      <td>0.980064</td>\n",
       "    </tr>\n",
       "    <tr>\n",
       "      <th>PPF</th>\n",
       "      <td>-0.073037</td>\n",
       "      <td>0.106442</td>\n",
       "      <td>0.008012</td>\n",
       "      <td>0.980064</td>\n",
       "      <td>1.000000</td>\n",
       "    </tr>\n",
       "  </tbody>\n",
       "</table>\n",
       "</div>"
      ],
      "text/plain": [
       "            W        DP        FP       BPF       PPF\n",
       "W    1.000000 -0.190669  0.371307  0.060660 -0.073037\n",
       "DP  -0.190669  1.000000 -0.056134  0.076468  0.106442\n",
       "FP   0.371307 -0.056134  1.000000  0.070591  0.008012\n",
       "BPF  0.060660  0.076468  0.070591  1.000000  0.980064\n",
       "PPF -0.073037  0.106442  0.008012  0.980064  1.000000"
      ]
     },
     "execution_count": 98,
     "metadata": {},
     "output_type": "execute_result"
    }
   ],
   "source": [
    "df1[['W', 'DP', 'FP','BPF','PPF']].corr()"
   ]
  },
  {
   "cell_type": "markdown",
   "metadata": {},
   "source": [
    "4. Choose any two of the variables from 3. Draw 1,000 samples, taking the mean of 100 observations each time. Plot the frequencies of the sample means. What distribution does this appear to follow?\n",
    "Hint: df['col'].sample(n=50) will draw 50 random observations from df['col'].\n",
    "1000 sample of size 100\n",
    "W \n",
    "ERA"
   ]
  },
  {
   "cell_type": "code",
   "execution_count": 101,
   "metadata": {},
   "outputs": [
    {
     "data": {
      "image/png": "[encoded data removed]",
      "text/plain": [
       "<Figure size 432x288 with 1 Axes>"
      ]
     },
     "metadata": {
      "needs_background": "light"
     },
     "output_type": "display_data"
    }
   ],
   "source": [
    "import numpy as np\n",
    "import pandas as pd\n",
    "from matplotlib import pyplot as plt\n",
    "from numpy.random import randint\n",
    "from numpy import mean\n",
    "\n",
    "means = [mean(df['W'].sample(n=100)) for _ in range(1000)]\n",
    "\n",
    "plt.hist(means)\n",
    "plt.show()\n",
    "\n",
    "'''\n",
    "just look at the histgram, it looks like a normal distribution, \n",
    "but if we look at the data concept, it fits into a Binomial distribution.\n",
    "by defination: represents the number of successes when an event with two or more distinct possible outcomes is repeated many time\n",
    "\n",
    "'''"
   ]
  },
  {
   "cell_type": "code",
   "execution_count": 102,
   "metadata": {},
   "outputs": [
    {
     "data": {
      "image/png": "[encoded data removed]",
      "text/plain": [
       "<Figure size 432x288 with 1 Axes>"
      ]
     },
     "metadata": {
      "needs_background": "light"
     },
     "output_type": "display_data"
    }
   ],
   "source": [
    "means = [mean(df['ERA'].sample(n=100)) for _ in range(1000)]\n",
    "\n",
    "plt.hist(means)\n",
    "plt.show()\n",
    "'''\n",
    "by the histgram, it looks like a normal distribution, \n",
    "and by the data concept, it fits into the description of normal distribution.\n",
    "'''"
   ]
  }
 ],
 "metadata": {
  "kernelspec": {
   "display_name": "Python 3",
   "language": "python",
   "name": "python3"
  },
  "language_info": {
   "codemirror_mode": {
    "name": "ipython",
    "version": 3
   },
   "file_extension": ".py",
   "mimetype": "text/x-python",
   "name": "python",
   "nbconvert_exporter": "python",
   "pygments_lexer": "ipython3",
   "version": "3.7.1"
  }
 },
 "nbformat": 4,
 "nbformat_minor": 2
}
