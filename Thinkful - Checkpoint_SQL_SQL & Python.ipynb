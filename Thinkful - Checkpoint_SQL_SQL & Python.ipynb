{
 "cells": [
  {
   "cell_type": "code",
   "execution_count": 10,
   "metadata": {},
   "outputs": [
    {
     "name": "stdout",
     "output_type": "stream",
     "text": [
      "Requirement already satisfied: sqlalchemy in c:\\users\\ojiang1\\documents\\anaconda\\lib\\site-packages (1.2.15)\n",
      "Requirement already satisfied: psycopg2 in c:\\users\\ojiang1\\documents\\anaconda\\lib\\site-packages (2.8.5)\n",
      "Requirement already satisfied: psycopg2-binary in c:\\users\\ojiang1\\documents\\anaconda\\lib\\site-packages (2.8.4)\n"
     ]
    }
   ],
   "source": [
    "!pip install sqlalchemy\n",
    "!pip install psycopg2\n",
    "!pip install psycopg2-binary"
   ]
  },
  {
   "cell_type": "code",
   "execution_count": 17,
   "metadata": {},
   "outputs": [],
   "source": [
    "from sqlalchemy import create_engine\n",
    "postgres_user = 'dsbc_student'\n",
    "postgres_pw = '7*.8G9QH21'\n",
    "postgres_host = '142.93.121.174'\n",
    "postgres_port = '5432'\n",
    "postgres_db = 'dvdrentals'\n",
    "\n",
    "# use the credentials to start a connection\n",
    "engine = create_engine('postgresql://{}:{}@{}:{}/{}'.format(\n",
    "    postgres_user, postgres_pw, postgres_host, postgres_port, postgres_db))"
   ]
  },
  {
   "cell_type": "markdown",
   "metadata": {},
   "source": [
    "1.How many movies are released for each rating?\n",
    "\n",
    "SELECT COUNT(*), rating\n",
    "FROM film\n",
    "GROUP BY rating;"
   ]
  },
  {
   "cell_type": "code",
   "execution_count": 56,
   "metadata": {},
   "outputs": [
    {
     "name": "stdout",
     "output_type": "stream",
     "text": [
      "[(195, 'R'), (210, 'NC-17'), (194, 'PG'), (223, 'PG-13'), (178, 'G')]\n",
      "R rating has 195 movies.\n",
      "NC-17 rating has 210 movies.\n",
      "PG rating has 194 movies.\n",
      "PG-13 rating has 223 movies.\n",
      "G rating has 178 movies.\n"
     ]
    }
   ],
   "source": [
    "sql = '''\n",
    "SELECT COUNT(*), rating\n",
    "FROM film\n",
    "GROUP BY rating '''\n",
    "\n",
    "films = engine.execute(sql)\n",
    "engine.dispose()\n",
    "\n",
    "ans = films.fetchall()\n",
    "print(ans) ## [(195, 'R'), (210, 'NC-17'),...]\n",
    "\n",
    "for n in ans:\n",
    "    print('{} rating has {} movies.'.format(n[1], n[0]))"
   ]
  },
  {
   "cell_type": "markdown",
   "metadata": {},
   "source": [
    "2. What is the average rental duration for each rating?\n",
    "SELECT AVG(rental_duration), rating\n",
    "FROM film\n",
    "GROUP BY rating;"
   ]
  },
  {
   "cell_type": "code",
   "execution_count": 55,
   "metadata": {},
   "outputs": [
    {
     "name": "stdout",
     "output_type": "stream",
     "text": [
      "R rating has avg rental duration: 4.7743589743589744.\n",
      "NC-17 rating has avg rental duration: 5.1428571428571429.\n",
      "PG rating has avg rental duration: 5.0824742268041237.\n",
      "PG-13 rating has avg rental duration: 5.0538116591928251.\n",
      "G rating has avg rental duration: 4.8370786516853933.\n"
     ]
    }
   ],
   "source": [
    "sql = '''\n",
    "SELECT AVG(rental_duration), rating\n",
    "FROM film\n",
    "GROUP BY rating '''\n",
    "\n",
    "duration = engine.execute(sql)\n",
    "engine.dispose()\n",
    "\n",
    "durations = duration.fetchall()\n",
    "#print(durations)\n",
    "'''\n",
    "[(Decimal('4.7743589743589744'), 'R'), (Decimal('5.1428571428571429'), 'NC-17'), '''\n",
    "\n",
    "for n in durations:\n",
    "    print('{} rating has avg rental duration: {}.'.format(n[1], n[0]))"
   ]
  },
  {
   "cell_type": "markdown",
   "metadata": {},
   "source": [
    "3. What is the mean movie length? Calculate this by defining a function.\n",
    "SELECT length\n",
    "FROM film;"
   ]
  },
  {
   "cell_type": "code",
   "execution_count": 58,
   "metadata": {},
   "outputs": [
    {
     "data": {
      "text/plain": [
       "115.272"
      ]
     },
     "execution_count": 58,
     "metadata": {},
     "output_type": "execute_result"
    }
   ],
   "source": [
    "def mean(numbers):\n",
    "  total_sum = 0; \n",
    "  for n in numbers:\n",
    "    total_sum += n \n",
    "  count = len(numbers)   \n",
    "  avg = total_sum / count  \n",
    "  return avg \n",
    "\n",
    "sql = '''\n",
    "SELECT length\n",
    "FROM film'''\n",
    "\n",
    "length = engine.execute(sql)\n",
    "engine.dispose()\n",
    "\n",
    "lengths = length.fetchall() \n",
    "#type(length) ##list [(86,), (48,), (50,), ......]\n",
    "#print(length)\n",
    "\n",
    "lens = [x['length'] for x in lengths]\n",
    "#print(lens) ##[86, 48, 50...]\n",
    "\n",
    "mean(lens)\n"
   ]
  },
  {
   "cell_type": "code",
   "execution_count": 60,
   "metadata": {},
   "outputs": [
    {
     "name": "stdout",
     "output_type": "stream",
     "text": [
      "115.2720000000000000\n"
     ]
    }
   ],
   "source": [
    "sql = '''\n",
    "SELECT \n",
    "  AVG(length)\n",
    "FROM \n",
    "  film\n",
    "'''\n",
    "\n",
    "\n",
    "lens_avg = engine.execute(sql)\n",
    "engine.dispose()\n",
    "\n",
    "lens_avg = lens_avg.fetchall()[0][0]\n",
    "\n",
    "print(lens_avg)"
   ]
  },
  {
   "cell_type": "markdown",
   "metadata": {},
   "source": [
    "4. What is the median movie length? Calculate this by defining a function."
   ]
  },
  {
   "cell_type": "code",
   "execution_count": 61,
   "metadata": {},
   "outputs": [
    {
     "data": {
      "text/plain": [
       "114.0"
      ]
     },
     "execution_count": 61,
     "metadata": {},
     "output_type": "execute_result"
    }
   ],
   "source": [
    "import math\n",
    "\n",
    "def median(numbers):\n",
    "  numbers.sort() \n",
    "  count = len(numbers) \n",
    "  isEven = count % 2 == 0 \n",
    "  \n",
    "  if (isEven):\n",
    "    mid = math.floor( count / 2 )\n",
    "    a = numbers[mid - 1]\n",
    "    b = numbers[mid]\n",
    "    ans = (a + b) / 2\n",
    "  else:\n",
    "    ans = numbers[math.floor( count / 2 )]\n",
    " \n",
    "  return ans\n",
    "\n",
    "median(lens)"
   ]
  },
  {
   "cell_type": "markdown",
   "metadata": {},
   "source": [
    "5.Calculate the standard deviation of the movie lengths. Calculate this by defining a function.\n"
   ]
  },
  {
   "cell_type": "code",
   "execution_count": 62,
   "metadata": {},
   "outputs": [
    {
     "data": {
      "text/plain": [
       "40.42633181855988"
      ]
     },
     "execution_count": 62,
     "metadata": {},
     "output_type": "execute_result"
    }
   ],
   "source": [
    "def standard_deviation(numbers):\n",
    "  X_bar = mean(numbers)\n",
    "  N = len(numbers)\n",
    "  total_sum = 0\n",
    "  for X in numbers:\n",
    "    diff = X - X_bar\n",
    "    squared = math.pow(diff, 2)\n",
    "    total_sum += squared\n",
    "  sigma = math.sqrt(total_sum / (N - 1))  \n",
    "  return sigma\n",
    "\n",
    "standard_deviation(lens)"
   ]
  }
 ],
 "metadata": {
  "kernelspec": {
   "display_name": "Python 3",
   "language": "python",
   "name": "python3"
  },
  "language_info": {
   "codemirror_mode": {
    "name": "ipython",
    "version": 3
   },
   "file_extension": ".py",
   "mimetype": "text/x-python",
   "name": "python",
   "nbconvert_exporter": "python",
   "pygments_lexer": "ipython3",
   "version": "3.7.1"
  }
 },
 "nbformat": 4,
 "nbformat_minor": 2
}
