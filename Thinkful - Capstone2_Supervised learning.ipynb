{
 "cells": [
  {
   "cell_type": "markdown",
   "metadata": {},
   "source": [
    "https://www.kaggle.com/benroshan/factors-affecting-campus-placement\n",
    "\n",
    "This data set consists of Placement data of students in our campus. It includes secondary and higher secondary school percentage and specialization. It also includes degree specialization, type and Work experience and salary offers to the placed students\n",
    "\n",
    "sl_no: Serial Number\n",
    "ssc_p: Secondary Education percentage- 10th Grade\n",
    "ssc_b: Board of Education- Central/ Others\n",
    "hsc_p: Higher Secondary Education percentage- 12th Grade\n",
    "hsc_b: Board of Education- Central/ Others\n",
    "hsc_s: Specialization in Higher Secondary Education\n",
    "degree_p: Degree Percentage-final average percentage score of                      Undergraduate course\n",
    "degree_t: Under Graduation(Degree type)- Field of degree education\n",
    "workex: Work Experience\n",
    "etest_p: Employability test percentage ( conducted by college)\n",
    "specialisation: Post Graduation(MBA)- Specialization\n",
    "mba_p: MBA percentage-- final average percentage score of Masters degree(Post Graduation) in business administration course\n",
    "status: Status of placement- Placed/Not placed\n",
    "\n",
    "Question: \n",
    "Which factor influenced a candidate in getting placed?"
   ]
  },
  {
   "cell_type": "code",
   "execution_count": 102,
   "metadata": {},
   "outputs": [],
   "source": [
    "import numpy as np\n",
    "import pandas as pd\n",
    "import scipy\n",
    "import matplotlib.pyplot as plt\n",
    "from scipy.stats import ttest_ind, mannwhitneyu \n",
    "import seaborn as sns \n",
    "from mpl_toolkits.mplot3d import Axes3D\n",
    "from sklearn import preprocessing \n",
    "from sklearn.preprocessing import StandardScaler\n",
    "from sklearn.decomposition import PCA\n",
    "from sklearn.model_selection import train_test_split\n",
    "from sklearn.linear_model import LogisticRegression\n",
    "from sklearn.neighbors import KNeighborsClassifier\n",
    "from sklearn.metrics import classification_report\n",
    "from sklearn.tree import DecisionTreeClassifier\n",
    "from sklearn import tree\n",
    "from sklearn import metrics\n",
    "\n",
    "# A convenience for displaying visualizations.\n",
    "from IPython.display import Image\n",
    "\n",
    "# Packages for rendering our tree.\n",
    "import pydotplus\n",
    "import graphviz\n",
    "import time\n",
    "from sklearn.metrics import accuracy_score\n",
    "from sklearn.model_selection import cross_val_score\n",
    "from sklearn.ensemble import RandomForestClassifier\n",
    "from sklearn import ensemble\n",
    "from sklearn import svm, datasets\n",
    "from sklearn.metrics import precision_score, recall_score, accuracy_score\n",
    "%matplotlib inline\n",
    "\n",
    "from sklearn.model_selection import GridSearchCV"
   ]
  },
  {
   "cell_type": "markdown",
   "metadata": {},
   "source": [
    "# Explore the data"
   ]
  },
  {
   "cell_type": "code",
   "execution_count": 277,
   "metadata": {},
   "outputs": [],
   "source": [
    "df = pd.read_csv(r'C:\\Users\\ojiang1\\Desktop\\Data Science\\Capstone2_Supervised learning\\PlacementDataFullClass.csv')"
   ]
  },
  {
   "cell_type": "code",
   "execution_count": 278,
   "metadata": {},
   "outputs": [
    {
     "name": "stdout",
     "output_type": "stream",
     "text": [
      "<class 'pandas.core.frame.DataFrame'>\n",
      "RangeIndex: 215 entries, 0 to 214\n",
      "Data columns (total 15 columns):\n",
      " #   Column          Non-Null Count  Dtype  \n",
      "---  ------          --------------  -----  \n",
      " 0   sl_no           215 non-null    int64  \n",
      " 1   gender          215 non-null    object \n",
      " 2   ssc_p           215 non-null    float64\n",
      " 3   ssc_b           215 non-null    object \n",
      " 4   hsc_p           215 non-null    float64\n",
      " 5   hsc_b           215 non-null    object \n",
      " 6   hsc_s           215 non-null    object \n",
      " 7   degree_p        215 non-null    float64\n",
      " 8   degree_t        215 non-null    object \n",
      " 9   workex          215 non-null    object \n",
      " 10  etest_p         215 non-null    float64\n",
      " 11  specialisation  215 non-null    object \n",
      " 12  mba_p           215 non-null    float64\n",
      " 13  status          215 non-null    object \n",
      " 14  salary          148 non-null    float64\n",
      "dtypes: float64(6), int64(1), object(8)\n",
      "memory usage: 25.3+ KB\n"
     ]
    }
   ],
   "source": [
    "df.info()"
   ]
  },
  {
   "cell_type": "code",
   "execution_count": 140,
   "metadata": {},
   "outputs": [
    {
     "data": {
      "text/html": [
       "<div>\n",
       "<style scoped>\n",
       "    .dataframe tbody tr th:only-of-type {\n",
       "        vertical-align: middle;\n",
       "    }\n",
       "\n",
       "    .dataframe tbody tr th {\n",
       "        vertical-align: top;\n",
       "    }\n",
       "\n",
       "    .dataframe thead th {\n",
       "        text-align: right;\n",
       "    }\n",
       "</style>\n",
       "<table border=\"1\" class=\"dataframe\">\n",
       "  <thead>\n",
       "    <tr style=\"text-align: right;\">\n",
       "      <th></th>\n",
       "      <th>sl_no</th>\n",
       "      <th>gender</th>\n",
       "      <th>ssc_p</th>\n",
       "      <th>ssc_b</th>\n",
       "      <th>hsc_p</th>\n",
       "      <th>hsc_b</th>\n",
       "      <th>hsc_s</th>\n",
       "      <th>degree_p</th>\n",
       "      <th>degree_t</th>\n",
       "      <th>workex</th>\n",
       "      <th>etest_p</th>\n",
       "      <th>specialisation</th>\n",
       "      <th>mba_p</th>\n",
       "      <th>status</th>\n",
       "      <th>salary</th>\n",
       "    </tr>\n",
       "  </thead>\n",
       "  <tbody>\n",
       "    <tr>\n",
       "      <th>0</th>\n",
       "      <td>1</td>\n",
       "      <td>M</td>\n",
       "      <td>67.00</td>\n",
       "      <td>Others</td>\n",
       "      <td>91.00</td>\n",
       "      <td>Others</td>\n",
       "      <td>Commerce</td>\n",
       "      <td>58.00</td>\n",
       "      <td>Sci&amp;Tech</td>\n",
       "      <td>No</td>\n",
       "      <td>55.0</td>\n",
       "      <td>Mkt&amp;HR</td>\n",
       "      <td>58.80</td>\n",
       "      <td>Placed</td>\n",
       "      <td>270000.0</td>\n",
       "    </tr>\n",
       "    <tr>\n",
       "      <th>1</th>\n",
       "      <td>2</td>\n",
       "      <td>M</td>\n",
       "      <td>79.33</td>\n",
       "      <td>Central</td>\n",
       "      <td>78.33</td>\n",
       "      <td>Others</td>\n",
       "      <td>Science</td>\n",
       "      <td>77.48</td>\n",
       "      <td>Sci&amp;Tech</td>\n",
       "      <td>Yes</td>\n",
       "      <td>86.5</td>\n",
       "      <td>Mkt&amp;Fin</td>\n",
       "      <td>66.28</td>\n",
       "      <td>Placed</td>\n",
       "      <td>200000.0</td>\n",
       "    </tr>\n",
       "    <tr>\n",
       "      <th>2</th>\n",
       "      <td>3</td>\n",
       "      <td>M</td>\n",
       "      <td>65.00</td>\n",
       "      <td>Central</td>\n",
       "      <td>68.00</td>\n",
       "      <td>Central</td>\n",
       "      <td>Arts</td>\n",
       "      <td>64.00</td>\n",
       "      <td>Comm&amp;Mgmt</td>\n",
       "      <td>No</td>\n",
       "      <td>75.0</td>\n",
       "      <td>Mkt&amp;Fin</td>\n",
       "      <td>57.80</td>\n",
       "      <td>Placed</td>\n",
       "      <td>250000.0</td>\n",
       "    </tr>\n",
       "    <tr>\n",
       "      <th>3</th>\n",
       "      <td>4</td>\n",
       "      <td>M</td>\n",
       "      <td>56.00</td>\n",
       "      <td>Central</td>\n",
       "      <td>52.00</td>\n",
       "      <td>Central</td>\n",
       "      <td>Science</td>\n",
       "      <td>52.00</td>\n",
       "      <td>Sci&amp;Tech</td>\n",
       "      <td>No</td>\n",
       "      <td>66.0</td>\n",
       "      <td>Mkt&amp;HR</td>\n",
       "      <td>59.43</td>\n",
       "      <td>Not Placed</td>\n",
       "      <td>NaN</td>\n",
       "    </tr>\n",
       "    <tr>\n",
       "      <th>4</th>\n",
       "      <td>5</td>\n",
       "      <td>M</td>\n",
       "      <td>85.80</td>\n",
       "      <td>Central</td>\n",
       "      <td>73.60</td>\n",
       "      <td>Central</td>\n",
       "      <td>Commerce</td>\n",
       "      <td>73.30</td>\n",
       "      <td>Comm&amp;Mgmt</td>\n",
       "      <td>No</td>\n",
       "      <td>96.8</td>\n",
       "      <td>Mkt&amp;Fin</td>\n",
       "      <td>55.50</td>\n",
       "      <td>Placed</td>\n",
       "      <td>425000.0</td>\n",
       "    </tr>\n",
       "  </tbody>\n",
       "</table>\n",
       "</div>"
      ],
      "text/plain": [
       "   sl_no gender  ssc_p    ssc_b  hsc_p    hsc_b     hsc_s  degree_p  \\\n",
       "0      1      M  67.00   Others  91.00   Others  Commerce     58.00   \n",
       "1      2      M  79.33  Central  78.33   Others   Science     77.48   \n",
       "2      3      M  65.00  Central  68.00  Central      Arts     64.00   \n",
       "3      4      M  56.00  Central  52.00  Central   Science     52.00   \n",
       "4      5      M  85.80  Central  73.60  Central  Commerce     73.30   \n",
       "\n",
       "    degree_t workex  etest_p specialisation  mba_p      status    salary  \n",
       "0   Sci&Tech     No     55.0         Mkt&HR  58.80      Placed  270000.0  \n",
       "1   Sci&Tech    Yes     86.5        Mkt&Fin  66.28      Placed  200000.0  \n",
       "2  Comm&Mgmt     No     75.0        Mkt&Fin  57.80      Placed  250000.0  \n",
       "3   Sci&Tech     No     66.0         Mkt&HR  59.43  Not Placed       NaN  \n",
       "4  Comm&Mgmt     No     96.8        Mkt&Fin  55.50      Placed  425000.0  "
      ]
     },
     "execution_count": 140,
     "metadata": {},
     "output_type": "execute_result"
    }
   ],
   "source": [
    "df.head()"
   ]
  },
  {
   "cell_type": "code",
   "execution_count": 142,
   "metadata": {},
   "outputs": [
    {
     "data": {
      "text/plain": [
       "sl_no             215\n",
       "gender              2\n",
       "ssc_p             103\n",
       "ssc_b               2\n",
       "hsc_p              97\n",
       "hsc_b               2\n",
       "hsc_s               3\n",
       "degree_p           89\n",
       "degree_t            3\n",
       "workex              2\n",
       "etest_p           100\n",
       "specialisation      2\n",
       "mba_p             205\n",
       "status              2\n",
       "salary             45\n",
       "dtype: int64"
      ]
     },
     "execution_count": 142,
     "metadata": {},
     "output_type": "execute_result"
    }
   ],
   "source": [
    "df.nunique()"
   ]
  },
  {
   "cell_type": "code",
   "execution_count": 106,
   "metadata": {},
   "outputs": [
    {
     "data": {
      "text/html": [
       "<div>\n",
       "<style scoped>\n",
       "    .dataframe tbody tr th:only-of-type {\n",
       "        vertical-align: middle;\n",
       "    }\n",
       "\n",
       "    .dataframe tbody tr th {\n",
       "        vertical-align: top;\n",
       "    }\n",
       "\n",
       "    .dataframe thead th {\n",
       "        text-align: right;\n",
       "    }\n",
       "</style>\n",
       "<table border=\"1\" class=\"dataframe\">\n",
       "  <thead>\n",
       "    <tr style=\"text-align: right;\">\n",
       "      <th></th>\n",
       "      <th>sl_no</th>\n",
       "      <th>ssc_p</th>\n",
       "      <th>hsc_p</th>\n",
       "      <th>degree_p</th>\n",
       "      <th>etest_p</th>\n",
       "      <th>mba_p</th>\n",
       "      <th>salary</th>\n",
       "    </tr>\n",
       "  </thead>\n",
       "  <tbody>\n",
       "    <tr>\n",
       "      <th>count</th>\n",
       "      <td>215.000000</td>\n",
       "      <td>215.000000</td>\n",
       "      <td>215.000000</td>\n",
       "      <td>215.000000</td>\n",
       "      <td>215.000000</td>\n",
       "      <td>215.000000</td>\n",
       "      <td>148.000000</td>\n",
       "    </tr>\n",
       "    <tr>\n",
       "      <th>mean</th>\n",
       "      <td>108.000000</td>\n",
       "      <td>67.303395</td>\n",
       "      <td>66.333163</td>\n",
       "      <td>66.370186</td>\n",
       "      <td>72.100558</td>\n",
       "      <td>62.278186</td>\n",
       "      <td>288655.405405</td>\n",
       "    </tr>\n",
       "    <tr>\n",
       "      <th>std</th>\n",
       "      <td>62.209324</td>\n",
       "      <td>10.827205</td>\n",
       "      <td>10.897509</td>\n",
       "      <td>7.358743</td>\n",
       "      <td>13.275956</td>\n",
       "      <td>5.833385</td>\n",
       "      <td>93457.452420</td>\n",
       "    </tr>\n",
       "    <tr>\n",
       "      <th>min</th>\n",
       "      <td>1.000000</td>\n",
       "      <td>40.890000</td>\n",
       "      <td>37.000000</td>\n",
       "      <td>50.000000</td>\n",
       "      <td>50.000000</td>\n",
       "      <td>51.210000</td>\n",
       "      <td>200000.000000</td>\n",
       "    </tr>\n",
       "    <tr>\n",
       "      <th>25%</th>\n",
       "      <td>54.500000</td>\n",
       "      <td>60.600000</td>\n",
       "      <td>60.900000</td>\n",
       "      <td>61.000000</td>\n",
       "      <td>60.000000</td>\n",
       "      <td>57.945000</td>\n",
       "      <td>240000.000000</td>\n",
       "    </tr>\n",
       "    <tr>\n",
       "      <th>50%</th>\n",
       "      <td>108.000000</td>\n",
       "      <td>67.000000</td>\n",
       "      <td>65.000000</td>\n",
       "      <td>66.000000</td>\n",
       "      <td>71.000000</td>\n",
       "      <td>62.000000</td>\n",
       "      <td>265000.000000</td>\n",
       "    </tr>\n",
       "    <tr>\n",
       "      <th>75%</th>\n",
       "      <td>161.500000</td>\n",
       "      <td>75.700000</td>\n",
       "      <td>73.000000</td>\n",
       "      <td>72.000000</td>\n",
       "      <td>83.500000</td>\n",
       "      <td>66.255000</td>\n",
       "      <td>300000.000000</td>\n",
       "    </tr>\n",
       "    <tr>\n",
       "      <th>max</th>\n",
       "      <td>215.000000</td>\n",
       "      <td>89.400000</td>\n",
       "      <td>97.700000</td>\n",
       "      <td>91.000000</td>\n",
       "      <td>98.000000</td>\n",
       "      <td>77.890000</td>\n",
       "      <td>940000.000000</td>\n",
       "    </tr>\n",
       "  </tbody>\n",
       "</table>\n",
       "</div>"
      ],
      "text/plain": [
       "            sl_no       ssc_p       hsc_p    degree_p     etest_p       mba_p  \\\n",
       "count  215.000000  215.000000  215.000000  215.000000  215.000000  215.000000   \n",
       "mean   108.000000   67.303395   66.333163   66.370186   72.100558   62.278186   \n",
       "std     62.209324   10.827205   10.897509    7.358743   13.275956    5.833385   \n",
       "min      1.000000   40.890000   37.000000   50.000000   50.000000   51.210000   \n",
       "25%     54.500000   60.600000   60.900000   61.000000   60.000000   57.945000   \n",
       "50%    108.000000   67.000000   65.000000   66.000000   71.000000   62.000000   \n",
       "75%    161.500000   75.700000   73.000000   72.000000   83.500000   66.255000   \n",
       "max    215.000000   89.400000   97.700000   91.000000   98.000000   77.890000   \n",
       "\n",
       "              salary  \n",
       "count     148.000000  \n",
       "mean   288655.405405  \n",
       "std     93457.452420  \n",
       "min    200000.000000  \n",
       "25%    240000.000000  \n",
       "50%    265000.000000  \n",
       "75%    300000.000000  \n",
       "max    940000.000000  "
      ]
     },
     "execution_count": 106,
     "metadata": {},
     "output_type": "execute_result"
    }
   ],
   "source": [
    "df.describe()"
   ]
  },
  {
   "cell_type": "code",
   "execution_count": 107,
   "metadata": {
    "scrolled": true
   },
   "outputs": [
    {
     "data": {
      "text/plain": [
       "sl_no              0\n",
       "gender             0\n",
       "ssc_p              0\n",
       "ssc_b              0\n",
       "hsc_p              0\n",
       "hsc_b              0\n",
       "hsc_s              0\n",
       "degree_p           0\n",
       "degree_t           0\n",
       "workex             0\n",
       "etest_p            0\n",
       "specialisation     0\n",
       "mba_p              0\n",
       "status             0\n",
       "salary            67\n",
       "dtype: int64"
      ]
     },
     "execution_count": 107,
     "metadata": {},
     "output_type": "execute_result"
    }
   ],
   "source": [
    "df.isnull().sum()"
   ]
  },
  {
   "cell_type": "markdown",
   "metadata": {},
   "source": [
    "the data looks pretty good that only salary has null values.\n",
    "\n",
    "this affect my question asked earlier-instead of asking:\n",
    "Which factor influenced a candidate's salary?\n",
    "i would rather ask:\n",
    "Which factor influenced a candidate in getting placed?\n",
    "\n",
    "i will drop salary in the original data set, since it does not affect status."
   ]
  },
  {
   "cell_type": "code",
   "execution_count": 171,
   "metadata": {},
   "outputs": [
    {
     "name": "stdout",
     "output_type": "stream",
     "text": [
      "<class 'pandas.core.frame.DataFrame'>\n",
      "RangeIndex: 215 entries, 0 to 214\n",
      "Data columns (total 14 columns):\n",
      " #   Column          Non-Null Count  Dtype  \n",
      "---  ------          --------------  -----  \n",
      " 0   sl_no           215 non-null    int64  \n",
      " 1   gender          215 non-null    object \n",
      " 2   ssc_p           215 non-null    float64\n",
      " 3   ssc_b           215 non-null    object \n",
      " 4   hsc_p           215 non-null    float64\n",
      " 5   hsc_b           215 non-null    object \n",
      " 6   hsc_s           215 non-null    object \n",
      " 7   degree_p        215 non-null    float64\n",
      " 8   degree_t        215 non-null    object \n",
      " 9   workex          215 non-null    object \n",
      " 10  etest_p         215 non-null    float64\n",
      " 11  specialisation  215 non-null    object \n",
      " 12  mba_p           215 non-null    float64\n",
      " 13  status          215 non-null    object \n",
      "dtypes: float64(5), int64(1), object(8)\n",
      "memory usage: 23.6+ KB\n"
     ]
    },
    {
     "data": {
      "text/plain": [
       "Index(['sl_no', 'gender', 'ssc_p', 'ssc_b', 'hsc_p', 'hsc_b', 'hsc_s',\n",
       "       'degree_p', 'degree_t', 'workex', 'etest_p', 'specialisation', 'mba_p',\n",
       "       'status'],\n",
       "      dtype='object')"
      ]
     },
     "execution_count": 171,
     "metadata": {},
     "output_type": "execute_result"
    }
   ],
   "source": [
    "df=df.drop(['salary'],1)\n",
    "df.info()\n",
    "df.columns"
   ]
  },
  {
   "cell_type": "code",
   "execution_count": 132,
   "metadata": {},
   "outputs": [
    {
     "name": "stdout",
     "output_type": "stream",
     "text": [
      "Index(['sl_no', 'ssc_p', 'hsc_p', 'degree_p', 'etest_p', 'mba_p'], dtype='object')\n",
      "The number of numerical columns is 6\n"
     ]
    }
   ],
   "source": [
    "# Numeric Columns\n",
    "numeric_columns = df.select_dtypes(['int64', 'float64']).columns\n",
    "print(numeric_columns)\n",
    "print(f\"The number of numerical columns is {len(numeric_columns)}\")"
   ]
  },
  {
   "cell_type": "code",
   "execution_count": 133,
   "metadata": {},
   "outputs": [
    {
     "data": {
      "text/plain": [
       "Index(['gender', 'ssc_b', 'hsc_b', 'hsc_s', 'degree_t', 'workex',\n",
       "       'specialisation', 'status'],\n",
       "      dtype='object')"
      ]
     },
     "execution_count": 133,
     "metadata": {},
     "output_type": "execute_result"
    }
   ],
   "source": [
    "# NON-Numeric Columns\n",
    "non_numeric_columns = df.select_dtypes(['object']).columns\n",
    "non_numeric_columns\n",
    "len(non_numeric_columns)\n",
    "non_numeric_columns"
   ]
  },
  {
   "cell_type": "code",
   "execution_count": 37,
   "metadata": {},
   "outputs": [
    {
     "data": {
      "text/plain": [
       "array([[<matplotlib.axes._subplots.AxesSubplot object at 0x000001B2172E62E8>,\n",
       "        <matplotlib.axes._subplots.AxesSubplot object at 0x000001B21937C4A8>],\n",
       "       [<matplotlib.axes._subplots.AxesSubplot object at 0x000001B2193A6A20>,\n",
       "        <matplotlib.axes._subplots.AxesSubplot object at 0x000001B2193CDF98>],\n",
       "       [<matplotlib.axes._subplots.AxesSubplot object at 0x000001B2193FA550>,\n",
       "        <matplotlib.axes._subplots.AxesSubplot object at 0x000001B219423AC8>]],\n",
       "      dtype=object)"
      ]
     },
     "execution_count": 37,
     "metadata": {},
     "output_type": "execute_result"
    },
    {
     "data": {
      "image/png": "[encoded data removed]",
      "text/plain": [
       "<Figure size 1440x1440 with 6 Axes>"
      ]
     },
     "metadata": {
      "needs_background": "light"
     },
     "output_type": "display_data"
    }
   ],
   "source": [
    "# lets take a visual look using histgram\n",
    "df.hist(figsize=(20,20))"
   ]
  },
  {
   "cell_type": "code",
   "execution_count": 111,
   "metadata": {},
   "outputs": [
    {
     "name": "stdout",
     "output_type": "stream",
     "text": [
      "Number of outliers for sl_no is: 0 and it is 0.0 percent.\n",
      "Number of outliers for ssc_p is: 0 and it is 0.0 percent.\n",
      "Number of outliers for hsc_p is: 8 and it is 3.7209302325581395 percent.\n",
      "Number of outliers for degree_p is: 1 and it is 0.46511627906976744 percent.\n",
      "Number of outliers for etest_p is: 0 and it is 0.0 percent.\n",
      "Number of outliers for mba_p is: 0 and it is 0.0 percent.\n"
     ]
    }
   ],
   "source": [
    "# outliars\n",
    "\n",
    "for col in numeric_columns:\n",
    "    q75, q25 = np.percentile(df[col], [75 ,25])\n",
    "    iqr = q75 - q25\n",
    "    min_val = q25 - (iqr*1.5)\n",
    "    max_val = q75 + (iqr*1.5)\n",
    "\n",
    "    print(\"Number of outliers for {} is: {} and it is {} percent.\".format(col, len((np.where((df[col] > max_val) \n",
    "                      | (df[col] < min_val))[0])), len((np.where((df[col] > max_val) | \n",
    "                                                    (df[col] < min_val))[0]))*100/215))\n",
    "    \n",
    "# two variables has outliars, this might effect the model performance later."
   ]
  },
  {
   "cell_type": "code",
   "execution_count": 40,
   "metadata": {},
   "outputs": [
    {
     "data": {
      "text/plain": [
       "Text(0.5, 1.0, 'mba_p')"
      ]
     },
     "execution_count": 40,
     "metadata": {},
     "output_type": "execute_result"
    },
    {
     "data": {
      "image/png": "[encoded data removed]",
      "text/plain": [
       "<Figure size 720x1440 with 6 Axes>"
      ]
     },
     "metadata": {
      "needs_background": "light"
     },
     "output_type": "display_data"
    }
   ],
   "source": [
    "fig = plt.figure(figsize=(10,20))\n",
    "\n",
    "plt.subplot(3, 2, 1)\n",
    "plt.boxplot(df[\"sl_no\"], sym='k.')\n",
    "plt.title(\"sl_no\")\n",
    "\n",
    "plt.subplot(3, 2, 2)\n",
    "plt.boxplot(df[\"ssc_p\"], sym='k.')\n",
    "plt.title(\"ssc_p\")\n",
    "\n",
    "plt.subplot(3, 2, 3)\n",
    "plt.boxplot(df[\"hsc_p\"], sym='k.')\n",
    "plt.title(\"hsc_p\")\n",
    "\n",
    "plt.subplot(3, 2, 4)\n",
    "plt.boxplot(df[\"degree_p\"], sym='k.')\n",
    "plt.title(\"degree_p\")\n",
    "\n",
    "plt.subplot(3, 2, 5)\n",
    "plt.boxplot(df[\"etest_p\"], sym='k.')\n",
    "plt.title(\"etest_p\")\n",
    "\n",
    "plt.subplot(3, 2, 6)\n",
    "plt.boxplot(df[\"mba_p\"], sym='k.')\n",
    "plt.title(\"mba_p\")"
   ]
  },
  {
   "cell_type": "code",
   "execution_count": 112,
   "metadata": {},
   "outputs": [
    {
     "data": {
      "text/plain": [
       "14"
      ]
     },
     "execution_count": 112,
     "metadata": {},
     "output_type": "execute_result"
    }
   ],
   "source": [
    "features = ['sl_no', 'gender', 'ssc_p', 'ssc_b', 'hsc_p', 'hsc_b', 'hsc_s',\n",
    "       'degree_p', 'degree_t', 'workex', 'etest_p', 'specialisation', 'mba_p',\n",
    "      'status']\n",
    "len(features)\n"
   ]
  },
  {
   "cell_type": "code",
   "execution_count": 113,
   "metadata": {},
   "outputs": [
    {
     "data": {
      "image/png": "[encoded data removed]",
      "text/plain": [
       "<Figure size 720x1440 with 14 Axes>"
      ]
     },
     "metadata": {
      "needs_background": "light"
     },
     "output_type": "display_data"
    }
   ],
   "source": [
    "## now use the scaterplot to see the relationships between features and target\n",
    "\n",
    "\n",
    "plt.figure(figsize=(10,20))\n",
    "\n",
    "for i in range(len(features)):\n",
    "    plt.subplot(7,2,i+1)\n",
    "    plt.scatter(df[features[i]],y=df['status'])\n",
    "    plt.title(features[i])\n",
    "\n",
    "plt.show()\n"
   ]
  },
  {
   "cell_type": "code",
   "execution_count": 114,
   "metadata": {},
   "outputs": [
    {
     "data": {
      "image/png": "[encoded data removed]",
      "text/plain": [
       "<Figure size 1440x1080 with 2 Axes>"
      ]
     },
     "metadata": {
      "needs_background": "light"
     },
     "output_type": "display_data"
    }
   ],
   "source": [
    "# heatmap\n",
    "\n",
    "plt.figure(figsize=(20,15))\n",
    "sns.heatmap(df[numeric_columns].corr(), square=True, annot=True, linewidths=.5)\n",
    "plt.title(\"correlation matrix for numeric_columns\")\n",
    "plt.show()"
   ]
  },
  {
   "cell_type": "code",
   "execution_count": 60,
   "metadata": {
    "scrolled": true
   },
   "outputs": [
    {
     "data": {
      "text/html": [
       "<div>\n",
       "<style scoped>\n",
       "    .dataframe tbody tr th:only-of-type {\n",
       "        vertical-align: middle;\n",
       "    }\n",
       "\n",
       "    .dataframe tbody tr th {\n",
       "        vertical-align: top;\n",
       "    }\n",
       "\n",
       "    .dataframe thead th {\n",
       "        text-align: right;\n",
       "    }\n",
       "</style>\n",
       "<table border=\"1\" class=\"dataframe\">\n",
       "  <thead>\n",
       "    <tr style=\"text-align: right;\">\n",
       "      <th></th>\n",
       "      <th>sl_no</th>\n",
       "      <th>ssc_p</th>\n",
       "      <th>hsc_p</th>\n",
       "      <th>degree_p</th>\n",
       "      <th>etest_p</th>\n",
       "      <th>mba_p</th>\n",
       "    </tr>\n",
       "  </thead>\n",
       "  <tbody>\n",
       "    <tr>\n",
       "      <th>sl_no</th>\n",
       "      <td>1.000000</td>\n",
       "      <td>-0.078155</td>\n",
       "      <td>-0.085711</td>\n",
       "      <td>-0.088281</td>\n",
       "      <td>0.063636</td>\n",
       "      <td>0.022327</td>\n",
       "    </tr>\n",
       "    <tr>\n",
       "      <th>ssc_p</th>\n",
       "      <td>-0.078155</td>\n",
       "      <td>1.000000</td>\n",
       "      <td>0.511472</td>\n",
       "      <td>0.538404</td>\n",
       "      <td>0.261993</td>\n",
       "      <td>0.388478</td>\n",
       "    </tr>\n",
       "    <tr>\n",
       "      <th>hsc_p</th>\n",
       "      <td>-0.085711</td>\n",
       "      <td>0.511472</td>\n",
       "      <td>1.000000</td>\n",
       "      <td>0.434206</td>\n",
       "      <td>0.245113</td>\n",
       "      <td>0.354823</td>\n",
       "    </tr>\n",
       "    <tr>\n",
       "      <th>degree_p</th>\n",
       "      <td>-0.088281</td>\n",
       "      <td>0.538404</td>\n",
       "      <td>0.434206</td>\n",
       "      <td>1.000000</td>\n",
       "      <td>0.224470</td>\n",
       "      <td>0.402364</td>\n",
       "    </tr>\n",
       "    <tr>\n",
       "      <th>etest_p</th>\n",
       "      <td>0.063636</td>\n",
       "      <td>0.261993</td>\n",
       "      <td>0.245113</td>\n",
       "      <td>0.224470</td>\n",
       "      <td>1.000000</td>\n",
       "      <td>0.218055</td>\n",
       "    </tr>\n",
       "    <tr>\n",
       "      <th>mba_p</th>\n",
       "      <td>0.022327</td>\n",
       "      <td>0.388478</td>\n",
       "      <td>0.354823</td>\n",
       "      <td>0.402364</td>\n",
       "      <td>0.218055</td>\n",
       "      <td>1.000000</td>\n",
       "    </tr>\n",
       "  </tbody>\n",
       "</table>\n",
       "</div>"
      ],
      "text/plain": [
       "             sl_no     ssc_p     hsc_p  degree_p   etest_p     mba_p\n",
       "sl_no     1.000000 -0.078155 -0.085711 -0.088281  0.063636  0.022327\n",
       "ssc_p    -0.078155  1.000000  0.511472  0.538404  0.261993  0.388478\n",
       "hsc_p    -0.085711  0.511472  1.000000  0.434206  0.245113  0.354823\n",
       "degree_p -0.088281  0.538404  0.434206  1.000000  0.224470  0.402364\n",
       "etest_p   0.063636  0.261993  0.245113  0.224470  1.000000  0.218055\n",
       "mba_p     0.022327  0.388478  0.354823  0.402364  0.218055  1.000000"
      ]
     },
     "execution_count": 60,
     "metadata": {},
     "output_type": "execute_result"
    }
   ],
   "source": [
    "df[numeric_columns].corr()"
   ]
  },
  {
   "cell_type": "code",
   "execution_count": 172,
   "metadata": {},
   "outputs": [
    {
     "name": "stdout",
     "output_type": "stream",
     "text": [
      "<class 'pandas.core.frame.DataFrame'>\n",
      "RangeIndex: 215 entries, 0 to 214\n",
      "Data columns (total 16 columns):\n",
      " #   Column                 Non-Null Count  Dtype  \n",
      "---  ------                 --------------  -----  \n",
      " 0   sl_no                  215 non-null    int64  \n",
      " 1   ssc_p                  215 non-null    float64\n",
      " 2   hsc_p                  215 non-null    float64\n",
      " 3   degree_p               215 non-null    float64\n",
      " 4   etest_p                215 non-null    float64\n",
      " 5   mba_p                  215 non-null    float64\n",
      " 6   Gender_M               215 non-null    uint8  \n",
      " 7   Ssc_b_Others           215 non-null    uint8  \n",
      " 8   Hsc_b_Others           215 non-null    uint8  \n",
      " 9   Hsc_s_Commerce         215 non-null    uint8  \n",
      " 10  Hsc_s_Science          215 non-null    uint8  \n",
      " 11  Ddegree_t_Others       215 non-null    uint8  \n",
      " 12  Ddegree_t_Sci&Tech     215 non-null    uint8  \n",
      " 13  Workex_Yes             215 non-null    uint8  \n",
      " 14  Specialisation_Mkt&HR  215 non-null    uint8  \n",
      " 15  Status_Placed          215 non-null    uint8  \n",
      "dtypes: float64(5), int64(1), uint8(10)\n",
      "memory usage: 12.3 KB\n"
     ]
    },
    {
     "data": {
      "text/plain": [
       "Index(['sl_no', 'ssc_p', 'hsc_p', 'degree_p', 'etest_p', 'mba_p', 'Gender_M',\n",
       "       'Ssc_b_Others', 'Hsc_b_Others', 'Hsc_s_Commerce', 'Hsc_s_Science',\n",
       "       'Ddegree_t_Others', 'Ddegree_t_Sci&Tech', 'Workex_Yes',\n",
       "       'Specialisation_Mkt&HR', 'Status_Placed'],\n",
       "      dtype='object')"
      ]
     },
     "execution_count": 172,
     "metadata": {},
     "output_type": "execute_result"
    }
   ],
   "source": [
    "# transfer non numerical to dummies\n",
    "non_numeric_columns = ['gender', 'ssc_b', 'hsc_b', 'hsc_s', 'degree_t', 'workex',\n",
    "       'specialisation','status']\n",
    "\n",
    "\n",
    "\n",
    "# Encode character string categorical data into numeric data using one hot encoding\n",
    "df = pd.concat([df, pd.get_dummies(df[\"gender\"], prefix=\"Gender\", drop_first=True)], axis=1)\n",
    "df = pd.concat([df, pd.get_dummies(df[\"ssc_b\"], prefix=\"Ssc_b\",drop_first=True)], axis=1)\n",
    "df = pd.concat([df, pd.get_dummies(df[\"hsc_b\"], prefix=\"Hsc_b\",drop_first=True)], axis=1)\n",
    "df = pd.concat([df, pd.get_dummies(df[\"hsc_s\"], prefix=\"Hsc_s\",drop_first=True)], axis=1)\n",
    "df = pd.concat([df, pd.get_dummies(df[\"degree_t\"], prefix=\"Ddegree_t\",drop_first=True)], axis=1)\n",
    "df = pd.concat([df, pd.get_dummies(df[\"workex\"], prefix=\"Workex\",drop_first=True)], axis=1)\n",
    "df = pd.concat([df, pd.get_dummies(df[\"specialisation\"], prefix=\"Specialisation\",drop_first=True)], axis=1)\n",
    "df = pd.concat([df, pd.get_dummies(df[\"status\"], prefix=\"Status\",drop_first=True)], axis=1)\n",
    "\n",
    "# drop the character columns\n",
    "df.drop(['gender', 'ssc_b', 'hsc_b', 'hsc_s', 'degree_t', 'workex',\n",
    "       'specialisation','status'], axis = 1, inplace = True)\n",
    "\n",
    "df.info()\n",
    "df.head(10)\n",
    "df.columns"
   ]
  },
  {
   "cell_type": "code",
   "execution_count": 191,
   "metadata": {},
   "outputs": [
    {
     "name": "stdout",
     "output_type": "stream",
     "text": [
      "<class 'pandas.core.frame.DataFrame'>\n",
      "RangeIndex: 215 entries, 0 to 214\n",
      "Data columns (total 15 columns):\n",
      " #   Column                 Non-Null Count  Dtype  \n",
      "---  ------                 --------------  -----  \n",
      " 0   sl_no                  215 non-null    int64  \n",
      " 1   ssc_p                  215 non-null    float64\n",
      " 2   hsc_p                  215 non-null    float64\n",
      " 3   degree_p               215 non-null    float64\n",
      " 4   etest_p                215 non-null    float64\n",
      " 5   mba_p                  215 non-null    float64\n",
      " 6   Gender_M               215 non-null    uint8  \n",
      " 7   Ssc_b_Others           215 non-null    uint8  \n",
      " 8   Hsc_b_Others           215 non-null    uint8  \n",
      " 9   Hsc_s_Commerce         215 non-null    uint8  \n",
      " 10  Hsc_s_Science          215 non-null    uint8  \n",
      " 11  Ddegree_t_Others       215 non-null    uint8  \n",
      " 12  Ddegree_t_Sci&Tech     215 non-null    uint8  \n",
      " 13  Workex_Yes             215 non-null    uint8  \n",
      " 14  Specialisation_Mkt&HR  215 non-null    uint8  \n",
      "dtypes: float64(5), int64(1), uint8(9)\n",
      "memory usage: 12.1 KB\n"
     ]
    }
   ],
   "source": [
    "Y=df.Status_Placed \n",
    "X=df[['sl_no', 'ssc_p', 'hsc_p', 'degree_p', 'etest_p', 'mba_p', 'Gender_M',\n",
    "       'Ssc_b_Others', 'Hsc_b_Others', 'Hsc_s_Commerce', 'Hsc_s_Science',\n",
    "       'Ddegree_t_Others', 'Ddegree_t_Sci&Tech', 'Workex_Yes',\n",
    "       'Specialisation_Mkt&HR']]\n",
    "X.info()"
   ]
  },
  {
   "cell_type": "markdown",
   "metadata": {},
   "source": [
    "# PCA\n"
   ]
  },
  {
   "cell_type": "code",
   "execution_count": 186,
   "metadata": {},
   "outputs": [
    {
     "name": "stdout",
     "output_type": "stream",
     "text": [
      "The percentage of total variance in the dataset explained by each component from Sklearn PCA.\n",
      " [0.18587501 0.17282535 0.10703333 0.08885811 0.07810718 0.0642666\n",
      " 0.06305276 0.05165602 0.04415746 0.03678692 0.03044044]\n"
     ]
    }
   ],
   "source": [
    "# now apple PCA to above features X,Y\n",
    "\n",
    "standardscalar=StandardScaler()\n",
    "x_scaler=standardscalar.fit_transform(X)\n",
    "\n",
    "sklearn_pca = PCA(n_components=11)   \n",
    "df[\"pca_1\"] = sklearn_pca.fit_transform(x_scaler)\n",
    "\n",
    "print(\n",
    "    'The percentage of total variance in the dataset explained by each',\n",
    "    'component from Sklearn PCA.\\n',\n",
    "    sklearn_pca.explained_variance_ratio_\n",
    ")\n",
    "\n",
    "# More than 86% of the total variance is explained by the first 11 principal components.\n",
    "# not very effective"
   ]
  },
  {
   "cell_type": "code",
   "execution_count": 190,
   "metadata": {},
   "outputs": [
    {
     "data": {
      "text/html": [
       "<div>\n",
       "<style scoped>\n",
       "    .dataframe tbody tr th:only-of-type {\n",
       "        vertical-align: middle;\n",
       "    }\n",
       "\n",
       "    .dataframe tbody tr th {\n",
       "        vertical-align: top;\n",
       "    }\n",
       "\n",
       "    .dataframe thead th {\n",
       "        text-align: right;\n",
       "    }\n",
       "</style>\n",
       "<table border=\"1\" class=\"dataframe\">\n",
       "  <thead>\n",
       "    <tr style=\"text-align: right;\">\n",
       "      <th></th>\n",
       "      <th>Status_Placed</th>\n",
       "      <th>pca_1</th>\n",
       "      <th>sl_no</th>\n",
       "      <th>ssc_p</th>\n",
       "      <th>hsc_p</th>\n",
       "      <th>degree_p</th>\n",
       "      <th>etest_p</th>\n",
       "      <th>mba_p</th>\n",
       "      <th>Gender_M</th>\n",
       "      <th>Ssc_b_Others</th>\n",
       "      <th>Hsc_b_Others</th>\n",
       "      <th>Hsc_s_Commerce</th>\n",
       "      <th>Hsc_s_Science</th>\n",
       "      <th>Ddegree_t_Others</th>\n",
       "      <th>Ddegree_t_Sci&amp;Tech</th>\n",
       "      <th>Workex_Yes</th>\n",
       "      <th>Specialisation_Mkt&amp;HR</th>\n",
       "      <th>Status_Placed</th>\n",
       "    </tr>\n",
       "  </thead>\n",
       "  <tbody>\n",
       "    <tr>\n",
       "      <th>Status_Placed</th>\n",
       "      <td>1.000000</td>\n",
       "      <td>0.472433</td>\n",
       "      <td>-0.026859</td>\n",
       "      <td>0.607889</td>\n",
       "      <td>0.491228</td>\n",
       "      <td>0.479861</td>\n",
       "      <td>0.127639</td>\n",
       "      <td>0.076922</td>\n",
       "      <td>0.090670</td>\n",
       "      <td>0.037297</td>\n",
       "      <td>0.016945</td>\n",
       "      <td>0.024414</td>\n",
       "      <td>0.007279</td>\n",
       "      <td>-0.117232</td>\n",
       "      <td>0.008688</td>\n",
       "      <td>0.276060</td>\n",
       "      <td>-0.250655</td>\n",
       "      <td>1.000000</td>\n",
       "    </tr>\n",
       "    <tr>\n",
       "      <th>pca_1</th>\n",
       "      <td>0.472433</td>\n",
       "      <td>1.000000</td>\n",
       "      <td>-0.045916</td>\n",
       "      <td>0.768897</td>\n",
       "      <td>0.496494</td>\n",
       "      <td>0.700129</td>\n",
       "      <td>0.406813</td>\n",
       "      <td>0.616895</td>\n",
       "      <td>-0.105546</td>\n",
       "      <td>0.186171</td>\n",
       "      <td>0.235272</td>\n",
       "      <td>-0.389240</td>\n",
       "      <td>0.461417</td>\n",
       "      <td>-0.152038</td>\n",
       "      <td>0.507372</td>\n",
       "      <td>0.306194</td>\n",
       "      <td>-0.268718</td>\n",
       "      <td>0.472433</td>\n",
       "    </tr>\n",
       "    <tr>\n",
       "      <th>sl_no</th>\n",
       "      <td>-0.026859</td>\n",
       "      <td>-0.045916</td>\n",
       "      <td>1.000000</td>\n",
       "      <td>-0.078155</td>\n",
       "      <td>-0.085711</td>\n",
       "      <td>-0.088281</td>\n",
       "      <td>0.063636</td>\n",
       "      <td>0.022327</td>\n",
       "      <td>0.074306</td>\n",
       "      <td>0.027214</td>\n",
       "      <td>0.116887</td>\n",
       "      <td>-0.024463</td>\n",
       "      <td>0.018201</td>\n",
       "      <td>0.066666</td>\n",
       "      <td>0.009069</td>\n",
       "      <td>0.059151</td>\n",
       "      <td>0.046630</td>\n",
       "      <td>-0.026859</td>\n",
       "    </tr>\n",
       "    <tr>\n",
       "      <th>ssc_p</th>\n",
       "      <td>0.607889</td>\n",
       "      <td>0.768897</td>\n",
       "      <td>-0.078155</td>\n",
       "      <td>1.000000</td>\n",
       "      <td>0.511472</td>\n",
       "      <td>0.538404</td>\n",
       "      <td>0.261993</td>\n",
       "      <td>0.388478</td>\n",
       "      <td>-0.068969</td>\n",
       "      <td>0.116194</td>\n",
       "      <td>0.066996</td>\n",
       "      <td>-0.101323</td>\n",
       "      <td>0.189847</td>\n",
       "      <td>-0.066127</td>\n",
       "      <td>0.221235</td>\n",
       "      <td>0.175675</td>\n",
       "      <td>-0.172536</td>\n",
       "      <td>0.607889</td>\n",
       "    </tr>\n",
       "    <tr>\n",
       "      <th>hsc_p</th>\n",
       "      <td>0.491228</td>\n",
       "      <td>0.496494</td>\n",
       "      <td>-0.085711</td>\n",
       "      <td>0.511472</td>\n",
       "      <td>1.000000</td>\n",
       "      <td>0.434206</td>\n",
       "      <td>0.245113</td>\n",
       "      <td>0.354823</td>\n",
       "      <td>-0.021334</td>\n",
       "      <td>-0.137013</td>\n",
       "      <td>-0.019548</td>\n",
       "      <td>0.258093</td>\n",
       "      <td>-0.226675</td>\n",
       "      <td>-0.131382</td>\n",
       "      <td>-0.053599</td>\n",
       "      <td>0.141025</td>\n",
       "      <td>-0.241630</td>\n",
       "      <td>0.491228</td>\n",
       "    </tr>\n",
       "    <tr>\n",
       "      <th>degree_p</th>\n",
       "      <td>0.479861</td>\n",
       "      <td>0.700129</td>\n",
       "      <td>-0.088281</td>\n",
       "      <td>0.538404</td>\n",
       "      <td>0.434206</td>\n",
       "      <td>1.000000</td>\n",
       "      <td>0.224470</td>\n",
       "      <td>0.402364</td>\n",
       "      <td>-0.173217</td>\n",
       "      <td>0.038070</td>\n",
       "      <td>0.067229</td>\n",
       "      <td>-0.022724</td>\n",
       "      <td>0.092006</td>\n",
       "      <td>-0.180408</td>\n",
       "      <td>0.123477</td>\n",
       "      <td>0.122648</td>\n",
       "      <td>-0.218286</td>\n",
       "      <td>0.479861</td>\n",
       "    </tr>\n",
       "    <tr>\n",
       "      <th>etest_p</th>\n",
       "      <td>0.127639</td>\n",
       "      <td>0.406813</td>\n",
       "      <td>0.063636</td>\n",
       "      <td>0.261993</td>\n",
       "      <td>0.245113</td>\n",
       "      <td>0.224470</td>\n",
       "      <td>1.000000</td>\n",
       "      <td>0.218055</td>\n",
       "      <td>0.084294</td>\n",
       "      <td>-0.018991</td>\n",
       "      <td>0.039108</td>\n",
       "      <td>-0.021732</td>\n",
       "      <td>0.055352</td>\n",
       "      <td>0.006907</td>\n",
       "      <td>0.009748</td>\n",
       "      <td>0.056735</td>\n",
       "      <td>-0.236315</td>\n",
       "      <td>0.127639</td>\n",
       "    </tr>\n",
       "    <tr>\n",
       "      <th>mba_p</th>\n",
       "      <td>0.076922</td>\n",
       "      <td>0.616895</td>\n",
       "      <td>0.022327</td>\n",
       "      <td>0.388478</td>\n",
       "      <td>0.354823</td>\n",
       "      <td>0.402364</td>\n",
       "      <td>0.218055</td>\n",
       "      <td>1.000000</td>\n",
       "      <td>-0.300531</td>\n",
       "      <td>0.083120</td>\n",
       "      <td>0.090201</td>\n",
       "      <td>-0.049415</td>\n",
       "      <td>0.048050</td>\n",
       "      <td>-0.036055</td>\n",
       "      <td>0.125009</td>\n",
       "      <td>0.168811</td>\n",
       "      <td>-0.105728</td>\n",
       "      <td>0.076922</td>\n",
       "    </tr>\n",
       "    <tr>\n",
       "      <th>Gender_M</th>\n",
       "      <td>0.090670</td>\n",
       "      <td>-0.105546</td>\n",
       "      <td>0.074306</td>\n",
       "      <td>-0.068969</td>\n",
       "      <td>-0.021334</td>\n",
       "      <td>-0.173217</td>\n",
       "      <td>0.084294</td>\n",
       "      <td>-0.300531</td>\n",
       "      <td>1.000000</td>\n",
       "      <td>0.019429</td>\n",
       "      <td>0.065945</td>\n",
       "      <td>-0.001087</td>\n",
       "      <td>0.042682</td>\n",
       "      <td>-0.093246</td>\n",
       "      <td>0.084072</td>\n",
       "      <td>0.085153</td>\n",
       "      <td>-0.106160</td>\n",
       "      <td>0.090670</td>\n",
       "    </tr>\n",
       "    <tr>\n",
       "      <th>Ssc_b_Others</th>\n",
       "      <td>0.037297</td>\n",
       "      <td>0.186171</td>\n",
       "      <td>0.027214</td>\n",
       "      <td>0.116194</td>\n",
       "      <td>-0.137013</td>\n",
       "      <td>0.038070</td>\n",
       "      <td>-0.018991</td>\n",
       "      <td>0.083120</td>\n",
       "      <td>0.019429</td>\n",
       "      <td>1.000000</td>\n",
       "      <td>0.605883</td>\n",
       "      <td>-0.056671</td>\n",
       "      <td>0.058505</td>\n",
       "      <td>-0.002758</td>\n",
       "      <td>0.101060</td>\n",
       "      <td>-0.040744</td>\n",
       "      <td>-0.051565</td>\n",
       "      <td>0.037297</td>\n",
       "    </tr>\n",
       "    <tr>\n",
       "      <th>Hsc_b_Others</th>\n",
       "      <td>0.016945</td>\n",
       "      <td>0.235272</td>\n",
       "      <td>0.116887</td>\n",
       "      <td>0.066996</td>\n",
       "      <td>-0.019548</td>\n",
       "      <td>0.067229</td>\n",
       "      <td>0.039108</td>\n",
       "      <td>0.090201</td>\n",
       "      <td>0.065945</td>\n",
       "      <td>0.605883</td>\n",
       "      <td>1.000000</td>\n",
       "      <td>-0.073522</td>\n",
       "      <td>0.126446</td>\n",
       "      <td>-0.116920</td>\n",
       "      <td>0.086548</td>\n",
       "      <td>0.038357</td>\n",
       "      <td>0.002232</td>\n",
       "      <td>0.016945</td>\n",
       "    </tr>\n",
       "    <tr>\n",
       "      <th>Hsc_s_Commerce</th>\n",
       "      <td>0.024414</td>\n",
       "      <td>-0.389240</td>\n",
       "      <td>-0.024463</td>\n",
       "      <td>-0.101323</td>\n",
       "      <td>0.258093</td>\n",
       "      <td>-0.022724</td>\n",
       "      <td>-0.021732</td>\n",
       "      <td>-0.049415</td>\n",
       "      <td>-0.001087</td>\n",
       "      <td>-0.056671</td>\n",
       "      <td>-0.073522</td>\n",
       "      <td>1.000000</td>\n",
       "      <td>-0.901673</td>\n",
       "      <td>-0.202135</td>\n",
       "      <td>-0.584673</td>\n",
       "      <td>-0.056719</td>\n",
       "      <td>-0.129985</td>\n",
       "      <td>0.024414</td>\n",
       "    </tr>\n",
       "    <tr>\n",
       "      <th>Hsc_s_Science</th>\n",
       "      <td>0.007279</td>\n",
       "      <td>0.461417</td>\n",
       "      <td>0.018201</td>\n",
       "      <td>0.189847</td>\n",
       "      <td>-0.226675</td>\n",
       "      <td>0.092006</td>\n",
       "      <td>0.055352</td>\n",
       "      <td>0.048050</td>\n",
       "      <td>0.042682</td>\n",
       "      <td>0.058505</td>\n",
       "      <td>0.126446</td>\n",
       "      <td>-0.901673</td>\n",
       "      <td>1.000000</td>\n",
       "      <td>0.057432</td>\n",
       "      <td>0.654593</td>\n",
       "      <td>0.033270</td>\n",
       "      <td>0.166639</td>\n",
       "      <td>0.007279</td>\n",
       "    </tr>\n",
       "    <tr>\n",
       "      <th>Ddegree_t_Others</th>\n",
       "      <td>-0.117232</td>\n",
       "      <td>-0.152038</td>\n",
       "      <td>0.066666</td>\n",
       "      <td>-0.066127</td>\n",
       "      <td>-0.131382</td>\n",
       "      <td>-0.180408</td>\n",
       "      <td>0.006907</td>\n",
       "      <td>-0.036055</td>\n",
       "      <td>-0.093246</td>\n",
       "      <td>-0.002758</td>\n",
       "      <td>-0.116920</td>\n",
       "      <td>-0.202135</td>\n",
       "      <td>0.057432</td>\n",
       "      <td>1.000000</td>\n",
       "      <td>-0.142806</td>\n",
       "      <td>0.009507</td>\n",
       "      <td>0.090948</td>\n",
       "      <td>-0.117232</td>\n",
       "    </tr>\n",
       "    <tr>\n",
       "      <th>Ddegree_t_Sci&amp;Tech</th>\n",
       "      <td>0.008688</td>\n",
       "      <td>0.507372</td>\n",
       "      <td>0.009069</td>\n",
       "      <td>0.221235</td>\n",
       "      <td>-0.053599</td>\n",
       "      <td>0.123477</td>\n",
       "      <td>0.009748</td>\n",
       "      <td>0.125009</td>\n",
       "      <td>0.084072</td>\n",
       "      <td>0.101060</td>\n",
       "      <td>0.086548</td>\n",
       "      <td>-0.584673</td>\n",
       "      <td>0.654593</td>\n",
       "      <td>-0.142806</td>\n",
       "      <td>1.000000</td>\n",
       "      <td>0.102962</td>\n",
       "      <td>0.061503</td>\n",
       "      <td>0.008688</td>\n",
       "    </tr>\n",
       "    <tr>\n",
       "      <th>Workex_Yes</th>\n",
       "      <td>0.276060</td>\n",
       "      <td>0.306194</td>\n",
       "      <td>0.059151</td>\n",
       "      <td>0.175675</td>\n",
       "      <td>0.141025</td>\n",
       "      <td>0.122648</td>\n",
       "      <td>0.056735</td>\n",
       "      <td>0.168811</td>\n",
       "      <td>0.085153</td>\n",
       "      <td>-0.040744</td>\n",
       "      <td>0.038357</td>\n",
       "      <td>-0.056719</td>\n",
       "      <td>0.033270</td>\n",
       "      <td>0.009507</td>\n",
       "      <td>0.102962</td>\n",
       "      <td>1.000000</td>\n",
       "      <td>-0.191174</td>\n",
       "      <td>0.276060</td>\n",
       "    </tr>\n",
       "    <tr>\n",
       "      <th>Specialisation_Mkt&amp;HR</th>\n",
       "      <td>-0.250655</td>\n",
       "      <td>-0.268718</td>\n",
       "      <td>0.046630</td>\n",
       "      <td>-0.172536</td>\n",
       "      <td>-0.241630</td>\n",
       "      <td>-0.218286</td>\n",
       "      <td>-0.236315</td>\n",
       "      <td>-0.105728</td>\n",
       "      <td>-0.106160</td>\n",
       "      <td>-0.051565</td>\n",
       "      <td>0.002232</td>\n",
       "      <td>-0.129985</td>\n",
       "      <td>0.166639</td>\n",
       "      <td>0.090948</td>\n",
       "      <td>0.061503</td>\n",
       "      <td>-0.191174</td>\n",
       "      <td>1.000000</td>\n",
       "      <td>-0.250655</td>\n",
       "    </tr>\n",
       "    <tr>\n",
       "      <th>Status_Placed</th>\n",
       "      <td>1.000000</td>\n",
       "      <td>0.472433</td>\n",
       "      <td>-0.026859</td>\n",
       "      <td>0.607889</td>\n",
       "      <td>0.491228</td>\n",
       "      <td>0.479861</td>\n",
       "      <td>0.127639</td>\n",
       "      <td>0.076922</td>\n",
       "      <td>0.090670</td>\n",
       "      <td>0.037297</td>\n",
       "      <td>0.016945</td>\n",
       "      <td>0.024414</td>\n",
       "      <td>0.007279</td>\n",
       "      <td>-0.117232</td>\n",
       "      <td>0.008688</td>\n",
       "      <td>0.276060</td>\n",
       "      <td>-0.250655</td>\n",
       "      <td>1.000000</td>\n",
       "    </tr>\n",
       "  </tbody>\n",
       "</table>\n",
       "</div>"
      ],
      "text/plain": [
       "                       Status_Placed     pca_1     sl_no     ssc_p     hsc_p  \\\n",
       "Status_Placed               1.000000  0.472433 -0.026859  0.607889  0.491228   \n",
       "pca_1                       0.472433  1.000000 -0.045916  0.768897  0.496494   \n",
       "sl_no                      -0.026859 -0.045916  1.000000 -0.078155 -0.085711   \n",
       "ssc_p                       0.607889  0.768897 -0.078155  1.000000  0.511472   \n",
       "hsc_p                       0.491228  0.496494 -0.085711  0.511472  1.000000   \n",
       "degree_p                    0.479861  0.700129 -0.088281  0.538404  0.434206   \n",
       "etest_p                     0.127639  0.406813  0.063636  0.261993  0.245113   \n",
       "mba_p                       0.076922  0.616895  0.022327  0.388478  0.354823   \n",
       "Gender_M                    0.090670 -0.105546  0.074306 -0.068969 -0.021334   \n",
       "Ssc_b_Others                0.037297  0.186171  0.027214  0.116194 -0.137013   \n",
       "Hsc_b_Others                0.016945  0.235272  0.116887  0.066996 -0.019548   \n",
       "Hsc_s_Commerce              0.024414 -0.389240 -0.024463 -0.101323  0.258093   \n",
       "Hsc_s_Science               0.007279  0.461417  0.018201  0.189847 -0.226675   \n",
       "Ddegree_t_Others           -0.117232 -0.152038  0.066666 -0.066127 -0.131382   \n",
       "Ddegree_t_Sci&Tech          0.008688  0.507372  0.009069  0.221235 -0.053599   \n",
       "Workex_Yes                  0.276060  0.306194  0.059151  0.175675  0.141025   \n",
       "Specialisation_Mkt&HR      -0.250655 -0.268718  0.046630 -0.172536 -0.241630   \n",
       "Status_Placed               1.000000  0.472433 -0.026859  0.607889  0.491228   \n",
       "\n",
       "                       degree_p   etest_p     mba_p  Gender_M  Ssc_b_Others  \\\n",
       "Status_Placed          0.479861  0.127639  0.076922  0.090670      0.037297   \n",
       "pca_1                  0.700129  0.406813  0.616895 -0.105546      0.186171   \n",
       "sl_no                 -0.088281  0.063636  0.022327  0.074306      0.027214   \n",
       "ssc_p                  0.538404  0.261993  0.388478 -0.068969      0.116194   \n",
       "hsc_p                  0.434206  0.245113  0.354823 -0.021334     -0.137013   \n",
       "degree_p               1.000000  0.224470  0.402364 -0.173217      0.038070   \n",
       "etest_p                0.224470  1.000000  0.218055  0.084294     -0.018991   \n",
       "mba_p                  0.402364  0.218055  1.000000 -0.300531      0.083120   \n",
       "Gender_M              -0.173217  0.084294 -0.300531  1.000000      0.019429   \n",
       "Ssc_b_Others           0.038070 -0.018991  0.083120  0.019429      1.000000   \n",
       "Hsc_b_Others           0.067229  0.039108  0.090201  0.065945      0.605883   \n",
       "Hsc_s_Commerce        -0.022724 -0.021732 -0.049415 -0.001087     -0.056671   \n",
       "Hsc_s_Science          0.092006  0.055352  0.048050  0.042682      0.058505   \n",
       "Ddegree_t_Others      -0.180408  0.006907 -0.036055 -0.093246     -0.002758   \n",
       "Ddegree_t_Sci&Tech     0.123477  0.009748  0.125009  0.084072      0.101060   \n",
       "Workex_Yes             0.122648  0.056735  0.168811  0.085153     -0.040744   \n",
       "Specialisation_Mkt&HR -0.218286 -0.236315 -0.105728 -0.106160     -0.051565   \n",
       "Status_Placed          0.479861  0.127639  0.076922  0.090670      0.037297   \n",
       "\n",
       "                       Hsc_b_Others  Hsc_s_Commerce  Hsc_s_Science  \\\n",
       "Status_Placed              0.016945        0.024414       0.007279   \n",
       "pca_1                      0.235272       -0.389240       0.461417   \n",
       "sl_no                      0.116887       -0.024463       0.018201   \n",
       "ssc_p                      0.066996       -0.101323       0.189847   \n",
       "hsc_p                     -0.019548        0.258093      -0.226675   \n",
       "degree_p                   0.067229       -0.022724       0.092006   \n",
       "etest_p                    0.039108       -0.021732       0.055352   \n",
       "mba_p                      0.090201       -0.049415       0.048050   \n",
       "Gender_M                   0.065945       -0.001087       0.042682   \n",
       "Ssc_b_Others               0.605883       -0.056671       0.058505   \n",
       "Hsc_b_Others               1.000000       -0.073522       0.126446   \n",
       "Hsc_s_Commerce            -0.073522        1.000000      -0.901673   \n",
       "Hsc_s_Science              0.126446       -0.901673       1.000000   \n",
       "Ddegree_t_Others          -0.116920       -0.202135       0.057432   \n",
       "Ddegree_t_Sci&Tech         0.086548       -0.584673       0.654593   \n",
       "Workex_Yes                 0.038357       -0.056719       0.033270   \n",
       "Specialisation_Mkt&HR      0.002232       -0.129985       0.166639   \n",
       "Status_Placed              0.016945        0.024414       0.007279   \n",
       "\n",
       "                       Ddegree_t_Others  Ddegree_t_Sci&Tech  Workex_Yes  \\\n",
       "Status_Placed                 -0.117232            0.008688    0.276060   \n",
       "pca_1                         -0.152038            0.507372    0.306194   \n",
       "sl_no                          0.066666            0.009069    0.059151   \n",
       "ssc_p                         -0.066127            0.221235    0.175675   \n",
       "hsc_p                         -0.131382           -0.053599    0.141025   \n",
       "degree_p                      -0.180408            0.123477    0.122648   \n",
       "etest_p                        0.006907            0.009748    0.056735   \n",
       "mba_p                         -0.036055            0.125009    0.168811   \n",
       "Gender_M                      -0.093246            0.084072    0.085153   \n",
       "Ssc_b_Others                  -0.002758            0.101060   -0.040744   \n",
       "Hsc_b_Others                  -0.116920            0.086548    0.038357   \n",
       "Hsc_s_Commerce                -0.202135           -0.584673   -0.056719   \n",
       "Hsc_s_Science                  0.057432            0.654593    0.033270   \n",
       "Ddegree_t_Others               1.000000           -0.142806    0.009507   \n",
       "Ddegree_t_Sci&Tech            -0.142806            1.000000    0.102962   \n",
       "Workex_Yes                     0.009507            0.102962    1.000000   \n",
       "Specialisation_Mkt&HR          0.090948            0.061503   -0.191174   \n",
       "Status_Placed                 -0.117232            0.008688    0.276060   \n",
       "\n",
       "                       Specialisation_Mkt&HR  Status_Placed  \n",
       "Status_Placed                      -0.250655       1.000000  \n",
       "pca_1                              -0.268718       0.472433  \n",
       "sl_no                               0.046630      -0.026859  \n",
       "ssc_p                              -0.172536       0.607889  \n",
       "hsc_p                              -0.241630       0.491228  \n",
       "degree_p                           -0.218286       0.479861  \n",
       "etest_p                            -0.236315       0.127639  \n",
       "mba_p                              -0.105728       0.076922  \n",
       "Gender_M                           -0.106160       0.090670  \n",
       "Ssc_b_Others                       -0.051565       0.037297  \n",
       "Hsc_b_Others                        0.002232       0.016945  \n",
       "Hsc_s_Commerce                     -0.129985       0.024414  \n",
       "Hsc_s_Science                       0.166639       0.007279  \n",
       "Ddegree_t_Others                    0.090948      -0.117232  \n",
       "Ddegree_t_Sci&Tech                  0.061503       0.008688  \n",
       "Workex_Yes                         -0.191174       0.276060  \n",
       "Specialisation_Mkt&HR               1.000000      -0.250655  \n",
       "Status_Placed                      -0.250655       1.000000  "
      ]
     },
     "execution_count": 190,
     "metadata": {},
     "output_type": "execute_result"
    }
   ],
   "source": [
    "df[['Status_Placed' ,\"pca_1\", 'sl_no', 'ssc_p', 'hsc_p', 'degree_p', 'etest_p', 'mba_p', 'Gender_M',\n",
    "       'Ssc_b_Others', 'Hsc_b_Others', 'Hsc_s_Commerce', 'Hsc_s_Science',\n",
    "       'Ddegree_t_Others', 'Ddegree_t_Sci&Tech', 'Workex_Yes',\n",
    "       'Specialisation_Mkt&HR','Status_Placed' ]].corr()\n",
    "\n",
    "# the corr are low, which means pca is not working well. \n"
   ]
  },
  {
   "cell_type": "markdown",
   "metadata": {},
   "source": [
    "# Model prep"
   ]
  },
  {
   "cell_type": "code",
   "execution_count": 192,
   "metadata": {},
   "outputs": [],
   "source": [
    "# split\n",
    "X_train, X_test, y_train, y_test = train_test_split(X, Y, test_size = 0.2, random_state = 465)"
   ]
  },
  {
   "cell_type": "code",
   "execution_count": 210,
   "metadata": {},
   "outputs": [],
   "source": [
    "# define result\n",
    "\n",
    "def print_result(model, X_test, y_test):\n",
    "    \n",
    "    y_pred = model.predict(X_test) #prediction\n",
    "    train_score = model.score(X_train,y_train)\n",
    "    test_score = model.score(X_test,y_test)\n",
    "    accuracy = metrics.accuracy_score(y_test, y_pred)\n",
    "    recall = recall_score(y_test,y_pred) \n",
    "    precision = precision_score(y_test, y_pred)\n",
    "    score = cross_val_score(model, X_train,y_train, cv=5)\n",
    "\n",
    "    \n",
    "    conf_mat = metrics.confusion_matrix(y_test, y_pred)\n",
    "    conf_mat_df = pd.DataFrame(conf_mat, \n",
    "                               index= ['true_yes', 'true_no'],\n",
    "                              columns = ['predict_yes', 'predict_no'])   \n",
    "    print('train_score:%.3f'%train_score)\n",
    "    print('test_score:%.3f'%test_score)\n",
    "    print('accuracy:%.3f'%accuracy)\n",
    "    print('recall:%.3f'%recall)\n",
    "    print('precision:%.3f'%precision)\n",
    "    print('Cross validation Score is ', score.mean())\n",
    "    print('Confusion Matrix:', end='\\n')\n",
    "    print(conf_mat_df, end='\\n\\n')"
   ]
  },
  {
   "cell_type": "markdown",
   "metadata": {},
   "source": [
    "# 1. Logistic Regression\n"
   ]
  },
  {
   "cell_type": "code",
   "execution_count": 212,
   "metadata": {},
   "outputs": [
    {
     "name": "stderr",
     "output_type": "stream",
     "text": [
      "C:\\Users\\ojiang1\\Documents\\ANACONDA\\lib\\site-packages\\sklearn\\linear_model\\_logistic.py:940: ConvergenceWarning: lbfgs failed to converge (status=1):\n",
      "STOP: TOTAL NO. of ITERATIONS REACHED LIMIT.\n",
      "\n",
      "Increase the number of iterations (max_iter) or scale the data as shown in:\n",
      "    https://scikit-learn.org/stable/modules/preprocessing.html\n",
      "Please also refer to the documentation for alternative solver options:\n",
      "    https://scikit-learn.org/stable/modules/linear_model.html#logistic-regression\n",
      "  extra_warning_msg=_LOGISTIC_SOLVER_CONVERGENCE_MSG)\n"
     ]
    },
    {
     "name": "stdout",
     "output_type": "stream",
     "text": [
      "train_score:0.907\n",
      "test_score:0.814\n",
      "accuracy:0.814\n",
      "recall:0.818\n",
      "precision:0.931\n",
      "Cross validation Score is  0.8603361344537814\n",
      "Confusion Matrix:\n",
      "          predict_yes  predict_no\n",
      "true_yes            8           2\n",
      "true_no             6          27\n",
      "\n"
     ]
    }
   ],
   "source": [
    "lr = LogisticRegression(solver='lbfgs', max_iter=1000, penalty='l2')\n",
    "lr.fit(X_train, y_train)\n",
    "\n",
    "print_result(lr, X_test, y_test)"
   ]
  },
  {
   "cell_type": "markdown",
   "metadata": {},
   "source": [
    "# 2. KNN"
   ]
  },
  {
   "cell_type": "code",
   "execution_count": 213,
   "metadata": {},
   "outputs": [
    {
     "name": "stdout",
     "output_type": "stream",
     "text": [
      "train_score:0.843\n",
      "test_score:0.814\n",
      "accuracy:0.814\n",
      "recall:0.909\n",
      "precision:0.857\n",
      "Cross validation Score is  0.733109243697479\n",
      "Confusion Matrix:\n",
      "          predict_yes  predict_no\n",
      "true_yes            5           5\n",
      "true_no             3          30\n",
      "\n"
     ]
    }
   ],
   "source": [
    "knn = KNeighborsClassifier(n_neighbors=5)\n",
    "knn.fit(X_train,y_train)\n",
    "\n",
    "print_result(knn, X_test, y_test)"
   ]
  },
  {
   "cell_type": "code",
   "execution_count": 214,
   "metadata": {},
   "outputs": [
    {
     "name": "stdout",
     "output_type": "stream",
     "text": [
      "{'n_neighbors': 15, 'weights': 'distance'}\n"
     ]
    }
   ],
   "source": [
    "# find best param\n",
    "\n",
    "param_grid = {'n_neighbors':[3, 5, 7, 9, 15], \n",
    "                'weights':['uniform', 'distance']\n",
    "               }\n",
    "\n",
    "CV_rfc = GridSearchCV(estimator=KNeighborsClassifier(), param_grid=param_grid, cv= 5)\n",
    "CV_rfc.fit(X_train, y_train)\n",
    "print(CV_rfc.best_params_)"
   ]
  },
  {
   "cell_type": "code",
   "execution_count": 215,
   "metadata": {},
   "outputs": [
    {
     "name": "stdout",
     "output_type": "stream",
     "text": [
      "train_score:1.000\n",
      "test_score:0.837\n",
      "accuracy:0.837\n",
      "recall:0.939\n",
      "precision:0.861\n",
      "Cross validation Score is  0.7910924369747898\n",
      "Confusion Matrix:\n",
      "          predict_yes  predict_no\n",
      "true_yes            5           5\n",
      "true_no             2          31\n",
      "\n"
     ]
    }
   ],
   "source": [
    "# now fit the result from above to KNN \n",
    "knn = KNeighborsClassifier(n_neighbors=15, weights = 'distance')\n",
    "knn.fit(X_train,y_train)\n",
    "\n",
    "print_result(knn, X_test, y_test)"
   ]
  },
  {
   "cell_type": "markdown",
   "metadata": {},
   "source": [
    "# 3. Decision Tree"
   ]
  },
  {
   "cell_type": "code",
   "execution_count": 216,
   "metadata": {},
   "outputs": [
    {
     "name": "stdout",
     "output_type": "stream",
     "text": [
      "train_score:0.802\n",
      "test_score:0.558\n",
      "accuracy:0.558\n",
      "recall:0.667\n",
      "precision:0.733\n",
      "Cross validation Score is  0.7149579831932773\n",
      "Confusion Matrix:\n",
      "          predict_yes  predict_no\n",
      "true_yes            2           8\n",
      "true_no            11          22\n",
      "\n"
     ]
    }
   ],
   "source": [
    "decision_tree = tree.DecisionTreeClassifier(\n",
    "    criterion='entropy',\n",
    "    max_features=1,\n",
    "    max_depth=5,\n",
    "    random_state = 1337\n",
    ")\n",
    "decision_tree.fit(X_train,y_train)\n",
    "\n",
    "print_result(decision_tree, X_test, y_test)\n"
   ]
  },
  {
   "cell_type": "code",
   "execution_count": 219,
   "metadata": {},
   "outputs": [
    {
     "name": "stdout",
     "output_type": "stream",
     "text": [
      "{'max_depth': 15, 'max_features': 9}\n"
     ]
    }
   ],
   "source": [
    "# find best param\n",
    "\n",
    "param_grid = {'max_depth':[3, 5, 7, 9, 15, 20],'max_features':[1,5,9,15]}\n",
    "\n",
    "CV_rfc = GridSearchCV(estimator=tree.DecisionTreeClassifier(), param_grid=param_grid, cv= 5)\n",
    "CV_rfc.fit(X_train, y_train)\n",
    "print(CV_rfc.best_params_)"
   ]
  },
  {
   "cell_type": "code",
   "execution_count": 220,
   "metadata": {},
   "outputs": [
    {
     "name": "stdout",
     "output_type": "stream",
     "text": [
      "train_score:1.000\n",
      "test_score:0.698\n",
      "accuracy:0.698\n",
      "recall:0.818\n",
      "precision:0.794\n",
      "Cross validation Score is  0.7959663865546218\n",
      "Confusion Matrix:\n",
      "          predict_yes  predict_no\n",
      "true_yes            3           7\n",
      "true_no             6          27\n",
      "\n"
     ]
    }
   ],
   "source": [
    "# now fit the result from above to the model\n",
    "\n",
    "decision_tree = tree.DecisionTreeClassifier(\n",
    "    criterion='entropy',\n",
    "    max_features=9,\n",
    "    max_depth=20,\n",
    "    random_state = 1337\n",
    ")\n",
    "decision_tree.fit(X_train,y_train)\n",
    "\n",
    "print_result(decision_tree, X_test, y_test)\n"
   ]
  },
  {
   "cell_type": "markdown",
   "metadata": {},
   "source": [
    "# 4. Random forest"
   ]
  },
  {
   "cell_type": "code",
   "execution_count": 221,
   "metadata": {},
   "outputs": [
    {
     "name": "stdout",
     "output_type": "stream",
     "text": [
      "train_score:1.000\n",
      "test_score:0.814\n",
      "accuracy:0.814\n",
      "recall:0.879\n",
      "precision:0.879\n",
      "Cross validation Score is  0.8660504201680672\n",
      "Confusion Matrix:\n",
      "          predict_yes  predict_no\n",
      "true_yes            6           4\n",
      "true_no             4          29\n",
      "\n"
     ]
    }
   ],
   "source": [
    "rfc = ensemble.RandomForestClassifier(n_estimators = 1000, random_state = 456)\n",
    "rfc.fit(X_train,y_train)\n",
    "\n",
    "print_result(rfc, X_test, y_test)"
   ]
  },
  {
   "cell_type": "markdown",
   "metadata": {},
   "source": [
    "# 5. Gradient Boosting"
   ]
  },
  {
   "cell_type": "code",
   "execution_count": 222,
   "metadata": {},
   "outputs": [
    {
     "name": "stdout",
     "output_type": "stream",
     "text": [
      "train_score:1.000\n",
      "test_score:0.860\n",
      "accuracy:0.860\n",
      "recall:0.879\n",
      "precision:0.935\n",
      "Cross validation Score is  0.8603361344537814\n",
      "Confusion Matrix:\n",
      "          predict_yes  predict_no\n",
      "true_yes            8           2\n",
      "true_no             4          29\n",
      "\n"
     ]
    }
   ],
   "source": [
    "params = {'n_estimators': 500,\n",
    "          'max_depth': 2,\n",
    "          'loss': 'deviance'}\n",
    "\n",
    "clf = ensemble.GradientBoostingClassifier(**params)\n",
    "clf.fit(X_train, y_train)\n",
    "\n",
    "print_result(clf, X_test, y_test)"
   ]
  },
  {
   "cell_type": "code",
   "execution_count": 224,
   "metadata": {},
   "outputs": [
    {
     "name": "stdout",
     "output_type": "stream",
     "text": [
      "{'learning_rate': 0.2, 'max_depth': 3, 'n_estimators': 500}\n"
     ]
    }
   ],
   "source": [
    "# find best param\n",
    "\n",
    "param_grid = {'n_estimators':[500, 100, 700,1000], \n",
    "                'learning_rate':[0.001, 0.05, 0.1, 0.2],\n",
    "               'max_depth':[3, 5, 7, 9, 15, 20],\n",
    "               }\n",
    "\n",
    "CV_rfc = GridSearchCV(estimator=ensemble.GradientBoostingClassifier(), param_grid=param_grid, cv= 5)\n",
    "CV_rfc.fit(X_train, y_train)\n",
    "print(CV_rfc.best_params_)\n"
   ]
  },
  {
   "cell_type": "code",
   "execution_count": 225,
   "metadata": {},
   "outputs": [
    {
     "name": "stdout",
     "output_type": "stream",
     "text": [
      "train_score:1.000\n",
      "test_score:0.860\n",
      "accuracy:0.860\n",
      "recall:0.848\n",
      "precision:0.966\n",
      "Cross validation Score is  0.8484033613445379\n",
      "Confusion Matrix:\n",
      "          predict_yes  predict_no\n",
      "true_yes            9           1\n",
      "true_no             5          28\n",
      "\n"
     ]
    }
   ],
   "source": [
    "# now fit the result from above to the model\n",
    "\n",
    "params = {'n_estimators': 500,\n",
    "          'max_depth': 3,\n",
    "          'loss': 'deviance',\n",
    "         'learning_rate': 0.2}\n",
    "\n",
    "clf = ensemble.GradientBoostingClassifier(**params)\n",
    "clf.fit(X_train, y_train)\n",
    "\n",
    "print_result(clf, X_test, y_test)"
   ]
  },
  {
   "cell_type": "markdown",
   "metadata": {},
   "source": [
    "# Choose best performer\n"
   ]
  },
  {
   "cell_type": "code",
   "execution_count": 226,
   "metadata": {},
   "outputs": [
    {
     "name": "stdout",
     "output_type": "stream",
     "text": [
      "Logistic Regression Classifier\n",
      "\n",
      "train_score:0.907\n",
      "test_score:0.814\n",
      "accuracy:0.814\n",
      "recall:0.818\n",
      "precision:0.931\n",
      "Cross validation Score is  0.8603361344537814\n",
      "Confusion Matrix:\n",
      "          predict_yes  predict_no\n",
      "true_yes            8           2\n",
      "true_no             6          27\n",
      "\n",
      "KNN\n",
      "\n",
      "train_score:1.000\n",
      "test_score:0.837\n",
      "accuracy:0.837\n",
      "recall:0.939\n",
      "precision:0.861\n",
      "Cross validation Score is  0.7910924369747898\n",
      "Confusion Matrix:\n",
      "          predict_yes  predict_no\n",
      "true_yes            5           5\n",
      "true_no             2          31\n",
      "\n",
      "Decision Tree\n",
      "\n",
      "train_score:1.000\n",
      "test_score:0.698\n",
      "accuracy:0.698\n",
      "recall:0.818\n",
      "precision:0.794\n",
      "Cross validation Score is  0.7959663865546218\n",
      "Confusion Matrix:\n",
      "          predict_yes  predict_no\n",
      "true_yes            3           7\n",
      "true_no             6          27\n",
      "\n",
      "Random Forest\n",
      "\n",
      "train_score:1.000\n",
      "test_score:0.814\n",
      "accuracy:0.814\n",
      "recall:0.879\n",
      "precision:0.879\n",
      "Cross validation Score is  0.8660504201680672\n",
      "Confusion Matrix:\n",
      "          predict_yes  predict_no\n",
      "true_yes            6           4\n",
      "true_no             4          29\n",
      "\n",
      "Gradient Boosting\n",
      "\n",
      "train_score:1.000\n",
      "test_score:0.860\n",
      "accuracy:0.860\n",
      "recall:0.848\n",
      "precision:0.966\n",
      "Cross validation Score is  0.8484033613445379\n",
      "Confusion Matrix:\n",
      "          predict_yes  predict_no\n",
      "true_yes            9           1\n",
      "true_no             5          28\n",
      "\n"
     ]
    }
   ],
   "source": [
    "print('Logistic Regression Classifier\\n')\n",
    "print_result(lr, X_test, y_test)\n",
    "print('KNN\\n')\n",
    "print_result(knn, X_test, y_test)\n",
    "print('Decision Tree\\n')\n",
    "print_result(decision_tree, X_test, y_test)\n",
    "print('Random Forest\\n')\n",
    "print_result(rfc, X_test, y_test) \n",
    "print('Gradient Boosting\\n')        \n",
    "print_result(clf, X_test, y_test)\n"
   ]
  },
  {
   "cell_type": "markdown",
   "metadata": {},
   "source": [
    "Logistic Regression Classifier is the best performer due to:\n",
    "1. smaller diff of train score and test score, meaning less overfit\n",
    "2. higher cross validation score, meaning the model is more efficient\n",
    "3. high accuracy, recall, and precision score"
   ]
  },
  {
   "cell_type": "markdown",
   "metadata": {},
   "source": [
    "# Feature importance\n",
    "We can fit a LogisticRegression model on the regression dataset and retrieve the coeff_ property that contains the coefficients found for each input variable."
   ]
  },
  {
   "cell_type": "code",
   "execution_count": 258,
   "metadata": {
    "scrolled": true
   },
   "outputs": [
    {
     "name": "stdout",
     "output_type": "stream",
     "text": [
      "Feature: 1, Score: 0.00716\n",
      "Feature: 2, Score: 0.23716\n",
      "Feature: 3, Score: 0.09685\n",
      "Feature: 4, Score: 0.25123\n",
      "Feature: 5, Score: -0.02964\n",
      "Feature: 6, Score: -0.18455\n",
      "Feature: 7, Score: 1.39970\n",
      "Feature: 8, Score: 0.31514\n",
      "Feature: 9, Score: 0.40483\n",
      "Feature: 10, Score: -0.18649\n",
      "Feature: 11, Score: -0.23780\n",
      "Feature: 12, Score: -0.32355\n",
      "Feature: 13, Score: -1.09184\n",
      "Feature: 14, Score: 1.36577\n",
      "Feature: 15, Score: -0.36743\n"
     ]
    }
   ],
   "source": [
    "importance = lr.coef_[0]\n",
    "\n",
    "for i,v in enumerate(importance,1):\n",
    "    print('Feature: %0d, Score: %.5f' % (i,v))\n"
   ]
  },
  {
   "cell_type": "code",
   "execution_count": 268,
   "metadata": {},
   "outputs": [
    {
     "data": {
      "text/html": [
       "<div>\n",
       "<style scoped>\n",
       "    .dataframe tbody tr th:only-of-type {\n",
       "        vertical-align: middle;\n",
       "    }\n",
       "\n",
       "    .dataframe tbody tr th {\n",
       "        vertical-align: top;\n",
       "    }\n",
       "\n",
       "    .dataframe thead th {\n",
       "        text-align: right;\n",
       "    }\n",
       "</style>\n",
       "<table border=\"1\" class=\"dataframe\">\n",
       "  <thead>\n",
       "    <tr style=\"text-align: right;\">\n",
       "      <th></th>\n",
       "      <th>feature_name</th>\n",
       "      <th>importance</th>\n",
       "    </tr>\n",
       "  </thead>\n",
       "  <tbody>\n",
       "    <tr>\n",
       "      <th>0</th>\n",
       "      <td>sl_no</td>\n",
       "      <td>0.007158</td>\n",
       "    </tr>\n",
       "    <tr>\n",
       "      <th>1</th>\n",
       "      <td>ssc_p</td>\n",
       "      <td>0.237158</td>\n",
       "    </tr>\n",
       "    <tr>\n",
       "      <th>2</th>\n",
       "      <td>hsc_p</td>\n",
       "      <td>0.096855</td>\n",
       "    </tr>\n",
       "    <tr>\n",
       "      <th>3</th>\n",
       "      <td>degree_p</td>\n",
       "      <td>0.251234</td>\n",
       "    </tr>\n",
       "    <tr>\n",
       "      <th>4</th>\n",
       "      <td>etest_p</td>\n",
       "      <td>-0.029639</td>\n",
       "    </tr>\n",
       "    <tr>\n",
       "      <th>5</th>\n",
       "      <td>mba_p</td>\n",
       "      <td>-0.184551</td>\n",
       "    </tr>\n",
       "    <tr>\n",
       "      <th>6</th>\n",
       "      <td>Gender_M</td>\n",
       "      <td>1.399705</td>\n",
       "    </tr>\n",
       "    <tr>\n",
       "      <th>7</th>\n",
       "      <td>Ssc_b_Others</td>\n",
       "      <td>0.315141</td>\n",
       "    </tr>\n",
       "    <tr>\n",
       "      <th>8</th>\n",
       "      <td>Hsc_b_Others</td>\n",
       "      <td>0.404832</td>\n",
       "    </tr>\n",
       "    <tr>\n",
       "      <th>9</th>\n",
       "      <td>Hsc_s_Commerce</td>\n",
       "      <td>-0.186485</td>\n",
       "    </tr>\n",
       "    <tr>\n",
       "      <th>10</th>\n",
       "      <td>Hsc_s_Science</td>\n",
       "      <td>-0.237797</td>\n",
       "    </tr>\n",
       "    <tr>\n",
       "      <th>11</th>\n",
       "      <td>Ddegree_t_Others</td>\n",
       "      <td>-0.323549</td>\n",
       "    </tr>\n",
       "    <tr>\n",
       "      <th>12</th>\n",
       "      <td>Ddegree_t_Sci&amp;Tech</td>\n",
       "      <td>-1.091836</td>\n",
       "    </tr>\n",
       "    <tr>\n",
       "      <th>13</th>\n",
       "      <td>Workex_Yes</td>\n",
       "      <td>1.365766</td>\n",
       "    </tr>\n",
       "    <tr>\n",
       "      <th>14</th>\n",
       "      <td>Specialisation_Mkt&amp;HR</td>\n",
       "      <td>-0.367431</td>\n",
       "    </tr>\n",
       "  </tbody>\n",
       "</table>\n",
       "</div>"
      ],
      "text/plain": [
       "             feature_name  importance\n",
       "0                   sl_no    0.007158\n",
       "1                   ssc_p    0.237158\n",
       "2                   hsc_p    0.096855\n",
       "3                degree_p    0.251234\n",
       "4                 etest_p   -0.029639\n",
       "5                   mba_p   -0.184551\n",
       "6                Gender_M    1.399705\n",
       "7            Ssc_b_Others    0.315141\n",
       "8            Hsc_b_Others    0.404832\n",
       "9          Hsc_s_Commerce   -0.186485\n",
       "10          Hsc_s_Science   -0.237797\n",
       "11       Ddegree_t_Others   -0.323549\n",
       "12     Ddegree_t_Sci&Tech   -1.091836\n",
       "13             Workex_Yes    1.365766\n",
       "14  Specialisation_Mkt&HR   -0.367431"
      ]
     },
     "execution_count": 268,
     "metadata": {},
     "output_type": "execute_result"
    }
   ],
   "source": [
    "df_lr_feature_importance=pd.DataFrame() \n",
    "\n",
    "df_lr_feature_importance['feature_name'] = X.columns\n",
    "df_lr_feature_importance['importance']=importance\n",
    "\n",
    "df_lr_feature_importance"
   ]
  },
  {
   "cell_type": "code",
   "execution_count": 269,
   "metadata": {},
   "outputs": [
    {
     "data": {
      "text/html": [
       "<div>\n",
       "<style scoped>\n",
       "    .dataframe tbody tr th:only-of-type {\n",
       "        vertical-align: middle;\n",
       "    }\n",
       "\n",
       "    .dataframe tbody tr th {\n",
       "        vertical-align: top;\n",
       "    }\n",
       "\n",
       "    .dataframe thead th {\n",
       "        text-align: right;\n",
       "    }\n",
       "</style>\n",
       "<table border=\"1\" class=\"dataframe\">\n",
       "  <thead>\n",
       "    <tr style=\"text-align: right;\">\n",
       "      <th></th>\n",
       "      <th>feature_name</th>\n",
       "      <th>importance</th>\n",
       "    </tr>\n",
       "  </thead>\n",
       "  <tbody>\n",
       "    <tr>\n",
       "      <th>6</th>\n",
       "      <td>Gender_M</td>\n",
       "      <td>1.399705</td>\n",
       "    </tr>\n",
       "    <tr>\n",
       "      <th>13</th>\n",
       "      <td>Workex_Yes</td>\n",
       "      <td>1.365766</td>\n",
       "    </tr>\n",
       "    <tr>\n",
       "      <th>8</th>\n",
       "      <td>Hsc_b_Others</td>\n",
       "      <td>0.404832</td>\n",
       "    </tr>\n",
       "    <tr>\n",
       "      <th>7</th>\n",
       "      <td>Ssc_b_Others</td>\n",
       "      <td>0.315141</td>\n",
       "    </tr>\n",
       "    <tr>\n",
       "      <th>3</th>\n",
       "      <td>degree_p</td>\n",
       "      <td>0.251234</td>\n",
       "    </tr>\n",
       "    <tr>\n",
       "      <th>1</th>\n",
       "      <td>ssc_p</td>\n",
       "      <td>0.237158</td>\n",
       "    </tr>\n",
       "    <tr>\n",
       "      <th>2</th>\n",
       "      <td>hsc_p</td>\n",
       "      <td>0.096855</td>\n",
       "    </tr>\n",
       "    <tr>\n",
       "      <th>0</th>\n",
       "      <td>sl_no</td>\n",
       "      <td>0.007158</td>\n",
       "    </tr>\n",
       "    <tr>\n",
       "      <th>4</th>\n",
       "      <td>etest_p</td>\n",
       "      <td>-0.029639</td>\n",
       "    </tr>\n",
       "    <tr>\n",
       "      <th>5</th>\n",
       "      <td>mba_p</td>\n",
       "      <td>-0.184551</td>\n",
       "    </tr>\n",
       "    <tr>\n",
       "      <th>9</th>\n",
       "      <td>Hsc_s_Commerce</td>\n",
       "      <td>-0.186485</td>\n",
       "    </tr>\n",
       "    <tr>\n",
       "      <th>10</th>\n",
       "      <td>Hsc_s_Science</td>\n",
       "      <td>-0.237797</td>\n",
       "    </tr>\n",
       "    <tr>\n",
       "      <th>11</th>\n",
       "      <td>Ddegree_t_Others</td>\n",
       "      <td>-0.323549</td>\n",
       "    </tr>\n",
       "    <tr>\n",
       "      <th>14</th>\n",
       "      <td>Specialisation_Mkt&amp;HR</td>\n",
       "      <td>-0.367431</td>\n",
       "    </tr>\n",
       "    <tr>\n",
       "      <th>12</th>\n",
       "      <td>Ddegree_t_Sci&amp;Tech</td>\n",
       "      <td>-1.091836</td>\n",
       "    </tr>\n",
       "  </tbody>\n",
       "</table>\n",
       "</div>"
      ],
      "text/plain": [
       "             feature_name  importance\n",
       "6                Gender_M    1.399705\n",
       "13             Workex_Yes    1.365766\n",
       "8            Hsc_b_Others    0.404832\n",
       "7            Ssc_b_Others    0.315141\n",
       "3                degree_p    0.251234\n",
       "1                   ssc_p    0.237158\n",
       "2                   hsc_p    0.096855\n",
       "0                   sl_no    0.007158\n",
       "4                 etest_p   -0.029639\n",
       "5                   mba_p   -0.184551\n",
       "9          Hsc_s_Commerce   -0.186485\n",
       "10          Hsc_s_Science   -0.237797\n",
       "11       Ddegree_t_Others   -0.323549\n",
       "14  Specialisation_Mkt&HR   -0.367431\n",
       "12     Ddegree_t_Sci&Tech   -1.091836"
      ]
     },
     "execution_count": 269,
     "metadata": {},
     "output_type": "execute_result"
    }
   ],
   "source": [
    "df_lr_feature_importance.sort_values(by ='importance', ascending=False, inplace=True)\n",
    "df_lr_feature_importance"
   ]
  },
  {
   "cell_type": "code",
   "execution_count": 270,
   "metadata": {},
   "outputs": [
    {
     "data": {
      "text/plain": [
       "<matplotlib.axes._subplots.AxesSubplot at 0x1b21ab93fd0>"
      ]
     },
     "execution_count": 270,
     "metadata": {},
     "output_type": "execute_result"
    },
    {
     "data": {
      "image/png": "[encoded data removed]",
      "text/plain": [
       "<Figure size 432x288 with 1 Axes>"
      ]
     },
     "metadata": {
      "needs_background": "light"
     },
     "output_type": "display_data"
    }
   ],
   "source": [
    "df_lr_feature_importance.plot(kind='bar')"
   ]
  },
  {
   "cell_type": "code",
   "execution_count": 272,
   "metadata": {},
   "outputs": [
    {
     "data": {
      "text/plain": [
       "<matplotlib.axes._subplots.AxesSubplot at 0x1b21bb636d8>"
      ]
     },
     "execution_count": 272,
     "metadata": {},
     "output_type": "execute_result"
    },
    {
     "data": {
      "image/png": "[encoded data removed]",
      "text/plain": [
       "<Figure size 432x288 with 1 Axes>"
      ]
     },
     "metadata": {
      "needs_background": "light"
     },
     "output_type": "display_data"
    }
   ],
   "source": [
    "df_lr_feature_importance.groupby('feature_name').importance.mean().sort_values().plot(kind='bar')"
   ]
  },
  {
   "cell_type": "code",
   "execution_count": 276,
   "metadata": {},
   "outputs": [
    {
     "data": {
      "text/plain": [
       "<matplotlib.axes._subplots.AxesSubplot at 0x1b219c2d128>"
      ]
     },
     "execution_count": 276,
     "metadata": {},
     "output_type": "execute_result"
    },
    {
     "data": {
      "image/png": "[encoded data removed]",
      "text/plain": [
       "<Figure size 432x288 with 1 Axes>"
      ]
     },
     "metadata": {
      "needs_background": "light"
     },
     "output_type": "display_data"
    }
   ],
   "source": [
    "# use absolute value of coeff\n",
    "\n",
    "df_lr_feature_importance1=pd.DataFrame() \n",
    "\n",
    "df_lr_feature_importance['feature_name'] = X.columns\n",
    "df_lr_feature_importance['importance']=abs(importance)\n",
    "\n",
    "df_lr_feature_importance.sort_values(by ='importance', ascending=False, inplace=True)\n",
    "df_lr_feature_importance\n",
    "df_lr_feature_importance.groupby('feature_name').importance.mean().sort_values().plot(kind='bar')"
   ]
  },
  {
   "cell_type": "markdown",
   "metadata": {},
   "source": [
    "The top 5 important features influence a candidate in getting placed are:\n",
    "1. Gender_M - interesting finding: female compare to male is more likely to be placed\t\n",
    "2. Workex_Yes - ppl have work experience are more likely to be placed\n",
    "3. Ddegree_t_Sci&Tech - ppl with this degree are less likely to be placed compare to other degrees\n",
    "4. Hsc_b_Others - Board of Education-Others is more likely to be placed than central board\t\n",
    "5. Specialisation_Mkt&HR - ppl with this specialisation are less likely to be placed compare to other specialisation"
   ]
  },
  {
   "cell_type": "markdown",
   "metadata": {},
   "source": [
    "# weak points \n",
    "1. data could be more detailed:\n",
    "for example there are only 3 unique values in degree_t, hsc_s, and 2 unique values in Hsc_b,ssc_b, and specialisation \n",
    "\n",
    "2. total data is not large enough, only 215 entries\n",
    "\n",
    "3. missing too much salary values. we could further analysis what affect salary level.\n",
    "\n"
   ]
  }
 ],
 "metadata": {
  "kernelspec": {
   "display_name": "Python 3",
   "language": "python",
   "name": "python3"
  },
  "language_info": {
   "codemirror_mode": {
    "name": "ipython",
    "version": 3
   },
   "file_extension": ".py",
   "mimetype": "text/x-python",
   "name": "python",
   "nbconvert_exporter": "python",
   "pygments_lexer": "ipython3",
   "version": "3.7.1"
  }
 },
 "nbformat": 4,
 "nbformat_minor": 2
}
