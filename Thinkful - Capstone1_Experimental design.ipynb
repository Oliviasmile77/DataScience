{
 "cells": [
  {
   "cell_type": "code",
   "execution_count": 2,
   "metadata": {
    "scrolled": true
   },
   "outputs": [
    {
     "name": "stdout",
     "output_type": "stream",
     "text": [
      "<class 'pandas.core.frame.DataFrame'>\n",
      "RangeIndex: 1338 entries, 0 to 1337\n",
      "Data columns (total 7 columns):\n",
      "age         1338 non-null int64\n",
      "sex         1338 non-null object\n",
      "bmi         1338 non-null float64\n",
      "children    1338 non-null int64\n",
      "smoker      1338 non-null object\n",
      "region      1338 non-null object\n",
      "charges     1338 non-null float64\n",
      "dtypes: float64(2), int64(2), object(3)\n",
      "memory usage: 73.2+ KB\n",
      "[19 18 28 33 32 31 46 37 60 25 62 23 56 27 52 30 34 59 63 55 22 26 35 24\n",
      " 41 38 36 21 48 40 58 53 43 64 20 61 44 57 29 45 54 49 47 51 42 50 39]\n",
      "[0 1 3 2 5 4]\n",
      "['southwest' 'southeast' 'northwest' 'northeast']\n",
      "['yes' 'no']\n"
     ]
    },
    {
     "data": {
      "text/plain": [
       "(1338, 7)"
      ]
     },
     "execution_count": 2,
     "metadata": {},
     "output_type": "execute_result"
    }
   ],
   "source": [
    "# Kaggle: https://www.kaggle.com/mirichoi0218/insurance\n",
    "\n",
    "import math\n",
    "import pandas as pd\n",
    "import numpy as np\n",
    "from scipy import stats\n",
    "import matplotlib.pyplot as plt\n",
    "\n",
    "ins = pd.read_csv(r'C:\\Users\\ojiang1\\Desktop\\Data Science\\Capstone1_Experimental design\\insurance.csv')\n",
    "\n",
    "# general info and check whether there is missing value.\n",
    "\n",
    "ins.info()\n",
    "ins.head()\n",
    "print(ins['age'].unique())\n",
    "print(ins['children'].unique())\n",
    "print(ins['region'].unique())\n",
    "print(ins['smoker'].unique())\n",
    "ins1=ins.dropna()\n",
    "ins1.shape  # no missing value"
   ]
  },
  {
   "cell_type": "code",
   "execution_count": 3,
   "metadata": {},
   "outputs": [
    {
     "data": {
      "text/html": [
       "<div>\n",
       "<style scoped>\n",
       "    .dataframe tbody tr th:only-of-type {\n",
       "        vertical-align: middle;\n",
       "    }\n",
       "\n",
       "    .dataframe tbody tr th {\n",
       "        vertical-align: top;\n",
       "    }\n",
       "\n",
       "    .dataframe thead th {\n",
       "        text-align: right;\n",
       "    }\n",
       "</style>\n",
       "<table border=\"1\" class=\"dataframe\">\n",
       "  <thead>\n",
       "    <tr style=\"text-align: right;\">\n",
       "      <th></th>\n",
       "      <th>age</th>\n",
       "      <th>bmi</th>\n",
       "      <th>children</th>\n",
       "      <th>charges</th>\n",
       "    </tr>\n",
       "    <tr>\n",
       "      <th>sex</th>\n",
       "      <th></th>\n",
       "      <th></th>\n",
       "      <th></th>\n",
       "      <th></th>\n",
       "    </tr>\n",
       "  </thead>\n",
       "  <tbody>\n",
       "    <tr>\n",
       "      <th>female</th>\n",
       "      <td>39.503021</td>\n",
       "      <td>30.377749</td>\n",
       "      <td>1.074018</td>\n",
       "      <td>12569.578844</td>\n",
       "    </tr>\n",
       "    <tr>\n",
       "      <th>male</th>\n",
       "      <td>38.917160</td>\n",
       "      <td>30.943129</td>\n",
       "      <td>1.115385</td>\n",
       "      <td>13956.751178</td>\n",
       "    </tr>\n",
       "  </tbody>\n",
       "</table>\n",
       "</div>"
      ],
      "text/plain": [
       "              age        bmi  children       charges\n",
       "sex                                                 \n",
       "female  39.503021  30.377749  1.074018  12569.578844\n",
       "male    38.917160  30.943129  1.115385  13956.751178"
      ]
     },
     "execution_count": 3,
     "metadata": {},
     "output_type": "execute_result"
    }
   ],
   "source": [
    "# confirm common sense that male pay more insurance charges\n",
    "ins.groupby(['sex']).mean()"
   ]
  },
  {
   "cell_type": "code",
   "execution_count": 4,
   "metadata": {},
   "outputs": [
    {
     "data": {
      "text/html": [
       "<div>\n",
       "<style scoped>\n",
       "    .dataframe tbody tr th:only-of-type {\n",
       "        vertical-align: middle;\n",
       "    }\n",
       "\n",
       "    .dataframe tbody tr th {\n",
       "        vertical-align: top;\n",
       "    }\n",
       "\n",
       "    .dataframe thead th {\n",
       "        text-align: right;\n",
       "    }\n",
       "</style>\n",
       "<table border=\"1\" class=\"dataframe\">\n",
       "  <thead>\n",
       "    <tr style=\"text-align: right;\">\n",
       "      <th></th>\n",
       "      <th>age</th>\n",
       "      <th>bmi</th>\n",
       "      <th>children</th>\n",
       "      <th>charges</th>\n",
       "    </tr>\n",
       "    <tr>\n",
       "      <th>smoker</th>\n",
       "      <th></th>\n",
       "      <th></th>\n",
       "      <th></th>\n",
       "      <th></th>\n",
       "    </tr>\n",
       "  </thead>\n",
       "  <tbody>\n",
       "    <tr>\n",
       "      <th>no</th>\n",
       "      <td>39.385338</td>\n",
       "      <td>30.651795</td>\n",
       "      <td>1.090226</td>\n",
       "      <td>8434.268298</td>\n",
       "    </tr>\n",
       "    <tr>\n",
       "      <th>yes</th>\n",
       "      <td>38.514599</td>\n",
       "      <td>30.708449</td>\n",
       "      <td>1.113139</td>\n",
       "      <td>32050.231832</td>\n",
       "    </tr>\n",
       "  </tbody>\n",
       "</table>\n",
       "</div>"
      ],
      "text/plain": [
       "              age        bmi  children       charges\n",
       "smoker                                              \n",
       "no      39.385338  30.651795  1.090226   8434.268298\n",
       "yes     38.514599  30.708449  1.113139  32050.231832"
      ]
     },
     "execution_count": 4,
     "metadata": {},
     "output_type": "execute_result"
    }
   ],
   "source": [
    "# confirm common sense that smoker pay more insurance charges\n",
    "ins.groupby(['smoker']).mean()"
   ]
  },
  {
   "cell_type": "code",
   "execution_count": 52,
   "metadata": {},
   "outputs": [
    {
     "data": {
      "text/plain": [
       "smoker  sex   \n",
       "no      female     8762.297300\n",
       "        male       8087.204731\n",
       "yes     female    30678.996276\n",
       "        male      33042.005975\n",
       "Name: charges, dtype: float64"
      ]
     },
     "execution_count": 52,
     "metadata": {},
     "output_type": "execute_result"
    }
   ],
   "source": [
    "# what about group smoker and sex?\n",
    "ins.groupby(['smoker','sex'])['charges'].mean()"
   ]
  },
  {
   "cell_type": "code",
   "execution_count": 5,
   "metadata": {},
   "outputs": [
    {
     "name": "stdout",
     "output_type": "stream",
     "text": [
      "<class 'pandas.core.frame.DataFrame'>\n",
      "Int64Index: 274 entries, 0 to 1337\n",
      "Data columns (total 7 columns):\n",
      "age         274 non-null int64\n",
      "sex         274 non-null object\n",
      "bmi         274 non-null float64\n",
      "children    274 non-null int64\n",
      "smoker      274 non-null object\n",
      "region      274 non-null object\n",
      "charges     274 non-null float64\n",
      "dtypes: float64(2), int64(2), object(3)\n",
      "memory usage: 17.1+ KB\n",
      "None\n",
      "<class 'pandas.core.frame.DataFrame'>\n",
      "Int64Index: 1064 entries, 1 to 1336\n",
      "Data columns (total 7 columns):\n",
      "age         1064 non-null int64\n",
      "sex         1064 non-null object\n",
      "bmi         1064 non-null float64\n",
      "children    1064 non-null int64\n",
      "smoker      1064 non-null object\n",
      "region      1064 non-null object\n",
      "charges     1064 non-null float64\n",
      "dtypes: float64(2), int64(2), object(3)\n",
      "memory usage: 66.5+ KB\n",
      "None\n"
     ]
    }
   ],
   "source": [
    "# The charge differences between smoker and non-smokers are WAY MORE than that between female and male.\n",
    "# SO Lets focus on smoker and non-smoker comparison now.\n",
    "\n",
    "# split the data into smokers and non smokers\n",
    "\n",
    "ins_smoker = ins[(ins['smoker'] == 'yes')]\n",
    "ins_nonsmoker = ins[(ins['smoker'] == 'no')]\n",
    "\n",
    "\n",
    "print(ins_smoker.info())\n",
    "print(ins_nonsmoker.info())"
   ]
  },
  {
   "cell_type": "code",
   "execution_count": 6,
   "metadata": {},
   "outputs": [
    {
     "data": {
      "image/png": "[encoded data removed]",
      "text/plain": [
       "<Figure size 432x288 with 1 Axes>"
      ]
     },
     "metadata": {
      "needs_background": "light"
     },
     "output_type": "display_data"
    },
    {
     "name": "stdout",
     "output_type": "stream",
     "text": [
      "DescribeResult(nobs=274, minmax=(12829.4551, 63770.42801), mean=32050.23183153284, variance=133207311.20634924, skewness=0.127514285857385, kurtosis=-1.0395337984245219)\n",
      "DescribeResult(nobs=1064, minmax=(1121.8739, 36910.60803), mean=8434.268297856204, variance=35925420.49611173, skewness=1.5359507841880067, kurtosis=3.1288070753114896)\n",
      "(0.9395521879196167, 3.6251879276250065e-09)\n",
      "(0.8728628158569336, 1.4455900162299346e-28)\n"
     ]
    }
   ],
   "source": [
    "# check whether two sets of data are normal distro?\n",
    "\n",
    "plt.hist(ins_smoker['charges'], alpha = 0.5)\n",
    "plt.hist(ins_nonsmoker['charges'], alpha = .5)\n",
    "plt.show()\n",
    "\n",
    "print(stats.describe(ins_smoker['charges']))\n",
    "print(stats.describe(ins_nonsmoker['charges']))\n",
    "\n",
    "print(stats.shapiro(ins_smoker['charges']))\n",
    "print(stats.shapiro(ins_nonsmoker['charges']))\n",
    "\n",
    "# FROM THE HISTPLOT, IT DOES NOT LOOK LIKE NORMAL DISTRO;\n",
    "# tho it does look like non smoker group has a bit outliars, but we will deal with outliars later.\n",
    "# FROM THE STATS, IT DOES NOT LIIKE LIKE NORMAL DISTRO;\n",
    "# FROM THE SHAPIRO TEST, THE STATISTIC IS NOT CLOSE ENOUGH TO 1 FOR ME TO SAY IT IS A NORMAL DISTRO, \n",
    "# ASLO THE P VALUE IS WAU LESS THAN 0.005 MEANING REJECTING THE NULL, MEANING THE DISTRO IS NOT NORMAL."
   ]
  },
  {
   "cell_type": "code",
   "execution_count": 7,
   "metadata": {},
   "outputs": [
    {
     "data": {
      "text/plain": [
       "KruskalResult(statistic=588.5196583657973, pvalue=5.259018267498522e-130)"
      ]
     },
     "execution_count": 7,
     "metadata": {},
     "output_type": "execute_result"
    }
   ],
   "source": [
    "# since the datasets are not normally distributed, then we woll do a Kruskal-Wallis test to see\n",
    "# how differenct the mean ranks for each group are from one another\n",
    "\n",
    "stats.kruskal(ins_smoker['charges'], ins_nonsmoker['charges'])\n",
    "\n",
    "# based on the p-value, I will reject the null that all variables have the same distribution."
   ]
  },
  {
   "cell_type": "code",
   "execution_count": 8,
   "metadata": {},
   "outputs": [
    {
     "data": {
      "text/plain": [
       "<matplotlib.axes._subplots.AxesSubplot at 0x1b77552d550>"
      ]
     },
     "execution_count": 8,
     "metadata": {},
     "output_type": "execute_result"
    },
    {
     "data": {
      "image/png": "[encoded data removed]",
      "text/plain": [
       "<Figure size 720x432 with 1 Axes>"
      ]
     },
     "metadata": {
      "needs_background": "light"
     },
     "output_type": "display_data"
    }
   ],
   "source": [
    "# let's take a visual look at how different the charges for two groups are.\n",
    "#Create a boxplot\n",
    "\n",
    "ins.boxplot('charges', by='smoker', figsize=(10, 6))\n",
    "\n",
    "# Good news, not only can we see the differences in charges, \n",
    "# but also we can comfirmed (along with the hist plot at the very begining) that the non smoker group has a lot of outliars\n"
   ]
  },
  {
   "cell_type": "code",
   "execution_count": 39,
   "metadata": {},
   "outputs": [
    {
     "name": "stdout",
     "output_type": "stream",
     "text": [
      "11064.672524999998\n",
      "3986.4387\n",
      "11362.88705\n",
      "-7078.2338249999975\n",
      "22427.559575\n"
     ]
    }
   ],
   "source": [
    "# why not we take the outliars out from the non smoker group?\n",
    "# how to decide outliars? i will use the 1.5 IQR rule. lo/ho: lower/higher outliar\n",
    "\n",
    "IQR =  1.5 * stats.iqr(ins_nonsmoker.charges)\n",
    "LQ = np.quantile(ins_nonsmoker.charges, .25)\n",
    "HQ = np.quantile(ins_nonsmoker.charges, .75)\n",
    "lo = LQ - IQR\n",
    "ho = HQ + IQR\n",
    "print(lo)  # no lower outliars, consistent w boxplot\n",
    "print(ho)"
   ]
  },
  {
   "cell_type": "code",
   "execution_count": 42,
   "metadata": {},
   "outputs": [
    {
     "name": "stdout",
     "output_type": "stream",
     "text": [
      "<class 'pandas.core.frame.DataFrame'>\n",
      "Int64Index: 1018 entries, 1 to 1336\n",
      "Data columns (total 7 columns):\n",
      "age         1018 non-null int64\n",
      "sex         1018 non-null object\n",
      "bmi         1018 non-null float64\n",
      "children    1018 non-null int64\n",
      "smoker      1018 non-null object\n",
      "region      1018 non-null object\n",
      "charges     1018 non-null float64\n",
      "dtypes: float64(2), int64(2), object(3)\n",
      "memory usage: 63.6+ KB\n"
     ]
    }
   ],
   "source": [
    "# redefine the non smoker group\n",
    "\n",
    "ins_nonsmoker1 = ins_nonsmoker[ins_nonsmoker.charges<ho]\n",
    "ins_nonsmoker1.info()\n",
    "   "
   ]
  },
  {
   "cell_type": "code",
   "execution_count": 44,
   "metadata": {},
   "outputs": [
    {
     "data": {
      "image/png": "[encoded data removed]",
      "text/plain": [
       "<Figure size 432x288 with 1 Axes>"
      ]
     },
     "metadata": {
      "needs_background": "light"
     },
     "output_type": "display_data"
    },
    {
     "name": "stdout",
     "output_type": "stream",
     "text": [
      "DescribeResult(nobs=274, minmax=(12829.4551, 63770.42801), mean=32050.23183153284, variance=133207311.20634924, skewness=0.127514285857385, kurtosis=-1.0395337984245219)\n",
      "DescribeResult(nobs=1018, minmax=(1121.8739, 22395.74424), mean=7578.490738073674, variance=20054955.51908741, skewness=0.6444777011423393, kurtosis=0.039532305661045264)\n"
     ]
    }
   ],
   "source": [
    "# check whether datasets are normal distro?\n",
    "\n",
    "plt.hist(ins_smoker['charges'], alpha = 0.5)\n",
    "plt.hist(ins_nonsmoker1['charges'], alpha = .5)\n",
    "plt.show()\n",
    "\n",
    "print(stats.describe(ins_smoker['charges']))\n",
    "print(stats.describe(ins_nonsmoker1['charges']))\n",
    "\n",
    "# both skewness and kurtosis are close enough normal distro."
   ]
  },
  {
   "cell_type": "code",
   "execution_count": 47,
   "metadata": {},
   "outputs": [
    {
     "data": {
      "text/plain": [
       "Ttest_indResult(statistic=54.206424363873396, pvalue=0.0)"
      ]
     },
     "execution_count": 47,
     "metadata": {},
     "output_type": "execute_result"
    }
   ],
   "source": [
    "# Conduct the t-test--> p value is close to 0, thus reject null, \n",
    "# ie charges for smoker and non smoker has diff\n",
    "\n",
    "stats.ttest_ind(ins_smoker['charges'], ins_nonsmoker1['charges'])"
   ]
  },
  {
   "cell_type": "code",
   "execution_count": 48,
   "metadata": {},
   "outputs": [
    {
     "data": {
      "text/plain": [
       "'The difference in means at the 95% confidence interval (two-tail) is between -25865.76609456014 and -23077.716092358227.'"
      ]
     },
     "execution_count": 48,
     "metadata": {},
     "output_type": "execute_result"
    }
   ],
   "source": [
    "# Confidence interval: lets get down to the charges to see how much is the difference.\n",
    "\n",
    "\n",
    "def get_95_ci(array_1, array_2):\n",
    "    sample_1_n = array_1.shape[0]\n",
    "    sample_2_n = array_2.shape[0]\n",
    "    sample_1_mean = array_1.mean()\n",
    "    sample_2_mean = array_2.mean()\n",
    "    sample_1_var = array_1.var()\n",
    "    sample_2_var = array_2.var()\n",
    "    mean_difference = sample_2_mean - sample_1_mean\n",
    "    std_err_difference = math.sqrt((sample_1_var/sample_1_n)+(sample_2_var/sample_2_n))\n",
    "    margin_of_error = 1.96 * std_err_difference\n",
    "    ci_lower = mean_difference - margin_of_error\n",
    "    ci_upper = mean_difference + margin_of_error\n",
    "    return(\"The difference in means at the 95% confidence interval (two-tail) is between \"+str(ci_lower)+\" and \"+str(ci_upper)+\".\")\n",
    "\n",
    "get_95_ci(ins_smoker['charges'], ins_nonsmoker1['charges'])\n",
    "\n",
    "# smokers are paying 23k to 25k more than non smokers do on a 95% confidence interval. \n",
    "# that is a lot of money! \n"
   ]
  },
  {
   "cell_type": "code",
   "execution_count": 78,
   "metadata": {},
   "outputs": [
    {
     "name": "stdout",
     "output_type": "stream",
     "text": [
      "<class 'pandas.core.frame.DataFrame'>\n",
      "Int64Index: 50 entries, 58 to 1314\n",
      "Data columns (total 7 columns):\n",
      "age         50 non-null int64\n",
      "sex         50 non-null object\n",
      "bmi         50 non-null float64\n",
      "children    50 non-null int64\n",
      "smoker      50 non-null object\n",
      "region      50 non-null object\n",
      "charges     50 non-null float64\n",
      "dtypes: float64(2), int64(2), object(3)\n",
      "memory usage: 3.1+ KB\n",
      "<class 'pandas.core.frame.DataFrame'>\n",
      "Int64Index: 172 entries, 3 to 1328\n",
      "Data columns (total 7 columns):\n",
      "age         172 non-null int64\n",
      "sex         172 non-null object\n",
      "bmi         172 non-null float64\n",
      "children    172 non-null int64\n",
      "smoker      172 non-null object\n",
      "region      172 non-null object\n",
      "charges     172 non-null float64\n",
      "dtypes: float64(2), int64(2), object(3)\n",
      "memory usage: 10.8+ KB\n"
     ]
    }
   ],
   "source": [
    "# does BMI do any good? what if smokers actaully have health bmi score? do they still pay more?\n",
    "# so now we are compare heathly smokers vs healthy nonsmokers.\n",
    "# per CDC, healthy bmi is 18.5 – 24.9\n",
    "\n",
    "healthy_smoker = ins_smoker.loc[(ins_smoker['bmi'] >= 18.5) & (ins_smoker['bmi'] <= 24.9)]\n",
    "healthy_smoker.info()\n",
    "\n",
    "healthy_nonsmoker = ins_nonsmoker.loc[(ins_nonsmoker['bmi'] >= 18.5) & (ins_nonsmoker['bmi'] <= 24.9)]\n",
    "healthy_nonsmoker.info()\n",
    "\n",
    "# among 274 smokers, 50 are considered healthy, bmi wise.\n",
    "# amg 1064 non-smokers, 172 are considered healthy, bmi wise."
   ]
  },
  {
   "cell_type": "code",
   "execution_count": 82,
   "metadata": {},
   "outputs": [
    {
     "data": {
      "image/png": "[encoded data removed]",
      "text/plain": [
       "<Figure size 432x288 with 1 Axes>"
      ]
     },
     "metadata": {
      "needs_background": "light"
     },
     "output_type": "display_data"
    },
    {
     "name": "stdout",
     "output_type": "stream",
     "text": [
      "DescribeResult(nobs=50, minmax=(13747.87235, 35069.37452), mean=19942.2236414, variance=17660835.707631227, skewness=0.9964675898737213, kurtosis=1.649193303628139)\n",
      "DescribeResult(nobs=172, minmax=(1121.8739, 30166.618169999998), mean=7599.638130639536, variance=33139166.31693067, skewness=1.5634890046108005, kurtosis=2.815298368019336)\n",
      "(0.9382525682449341, 0.011497029103338718)\n",
      "(0.8528282046318054, 7.175894427280394e-12)\n"
     ]
    }
   ],
   "source": [
    "# check whether two sets of data are normal distro?\n",
    "\n",
    "plt.hist(healthy_smoker['charges'], alpha = 0.5)\n",
    "plt.hist(healthy_nonsmoker['charges'], alpha = .5)\n",
    "plt.show()\n",
    "\n",
    "print(stats.describe(healthy_smoker['charges']))\n",
    "print(stats.describe(healthy_nonsmoker['charges']))\n",
    "\n",
    "print(stats.shapiro(healthy_smoker['charges']))\n",
    "print(stats.shapiro(healthy_nonsmoker['charges']))\n",
    "\n",
    "# before we rule on the distribtuion, lets take the outliars out first."
   ]
  },
  {
   "cell_type": "code",
   "execution_count": 83,
   "metadata": {},
   "outputs": [
    {
     "name": "stdout",
     "output_type": "stream",
     "text": [
      "<class 'pandas.core.frame.DataFrame'>\n",
      "Int64Index: 222 entries, 3 to 1328\n",
      "Data columns (total 7 columns):\n",
      "age         222 non-null int64\n",
      "sex         222 non-null object\n",
      "bmi         222 non-null float64\n",
      "children    222 non-null int64\n",
      "smoker      222 non-null object\n",
      "region      222 non-null object\n",
      "charges     222 non-null float64\n",
      "dtypes: float64(2), int64(2), object(3)\n",
      "memory usage: 13.9+ KB\n",
      "None\n"
     ]
    },
    {
     "data": {
      "text/plain": [
       "<matplotlib.axes._subplots.AxesSubplot at 0x1b7762eb278>"
      ]
     },
     "execution_count": 83,
     "metadata": {},
     "output_type": "execute_result"
    },
    {
     "data": {
      "image/png": "[encoded data removed]",
      "text/plain": [
       "<Figure size 720x432 with 1 Axes>"
      ]
     },
     "metadata": {
      "needs_background": "light"
     },
     "output_type": "display_data"
    }
   ],
   "source": [
    "# lets confirm that both groups have outliars.\n",
    "\n",
    "ins1= ins.loc[(ins['bmi'] >= 18.5) & (ins['bmi'] <= 24.9)]\n",
    "print(ins1.info())\n",
    "ins1.boxplot('charges', by='smoker', figsize=(10, 6))"
   ]
  },
  {
   "cell_type": "code",
   "execution_count": 89,
   "metadata": {},
   "outputs": [
    {
     "name": "stdout",
     "output_type": "stream",
     "text": [
      "-7301.579300000001\n",
      "20648.196300000003\n",
      "8517.7234875\n",
      "30303.431787499998\n"
     ]
    }
   ],
   "source": [
    "# now lets take out the outliars\n",
    "# again i will use the 1.5 IQR rule. lo1,2/ho1,2:lower/higher outliar for healthy_nonsmoker/healthy_smoker\n",
    "\n",
    "# for healthy_nonsmoker:\n",
    "IQR1 =  1.5 * stats.iqr(healthy_nonsmoker.charges)\n",
    "LQ1 = np.quantile(healthy_nonsmoker.charges, .25)\n",
    "HQ1 = np.quantile(healthy_nonsmoker.charges, .75)\n",
    "lo1 = LQ1 - IQR1\n",
    "ho1 = HQ1 + IQR1\n",
    "print(lo1)  # no lower outliars, consistent w boxplot\n",
    "print(ho1)\n",
    "\n",
    "\n",
    "# for healthy_smoker:\n",
    "IQR2 =  1.5 * stats.iqr(healthy_smoker.charges)\n",
    "LQ2 = np.quantile(healthy_smoker.charges, .25)\n",
    "HQ2 = np.quantile(healthy_smoker.charges, .75)\n",
    "lo2 = LQ2 - IQR2\n",
    "ho2 = HQ2 + IQR2\n",
    "print(lo2)  # no lower outliars, consistent w boxplot\n",
    "print(ho2)"
   ]
  },
  {
   "cell_type": "code",
   "execution_count": 91,
   "metadata": {},
   "outputs": [
    {
     "name": "stdout",
     "output_type": "stream",
     "text": [
      "<class 'pandas.core.frame.DataFrame'>\n",
      "Int64Index: 162 entries, 15 to 1316\n",
      "Data columns (total 7 columns):\n",
      "age         162 non-null int64\n",
      "sex         162 non-null object\n",
      "bmi         162 non-null float64\n",
      "children    162 non-null int64\n",
      "smoker      162 non-null object\n",
      "region      162 non-null object\n",
      "charges     162 non-null float64\n",
      "dtypes: float64(2), int64(2), object(3)\n",
      "memory usage: 10.1+ KB\n",
      "<class 'pandas.core.frame.DataFrame'>\n",
      "Int64Index: 49 entries, 58 to 1314\n",
      "Data columns (total 7 columns):\n",
      "age         49 non-null int64\n",
      "sex         49 non-null object\n",
      "bmi         49 non-null float64\n",
      "children    49 non-null int64\n",
      "smoker      49 non-null object\n",
      "region      49 non-null object\n",
      "charges     49 non-null float64\n",
      "dtypes: float64(2), int64(2), object(3)\n",
      "memory usage: 3.1+ KB\n"
     ]
    }
   ],
   "source": [
    "# redefine the groups\n",
    "\n",
    "healthy_nonsmoker1 = healthy_nonsmoker[healthy_nonsmoker.charges<ho1]\n",
    "healthy_nonsmoker1.info()\n",
    "   \n",
    "healthy_smoker1 = healthy_smoker[healthy_smoker.charges<ho2]\n",
    "healthy_smoker1.info()\n",
    "   "
   ]
  },
  {
   "cell_type": "code",
   "execution_count": 92,
   "metadata": {},
   "outputs": [
    {
     "data": {
      "image/png": "[encoded data removed]",
      "text/plain": [
       "<Figure size 432x288 with 1 Axes>"
      ]
     },
     "metadata": {
      "needs_background": "light"
     },
     "output_type": "display_data"
    },
    {
     "name": "stdout",
     "output_type": "stream",
     "text": [
      "DescribeResult(nobs=49, minmax=(13747.87235, 27037.9141), mean=19633.506276530614, variance=13164171.704432884, skewness=0.3140359941954967, kurtosis=-0.816899152828443)\n",
      "DescribeResult(nobs=162, minmax=(1121.8739, 17626.23951), mean=6541.36994617284, variance=15343105.115376597, skewness=0.4648399920535616, kurtosis=-0.8403193779397431)\n"
     ]
    }
   ],
   "source": [
    "# check whether redefined datasets are normal distro?\n",
    "\n",
    "plt.hist(healthy_smoker1['charges'], alpha = 0.5)\n",
    "plt.hist(healthy_nonsmoker1['charges'], alpha = .5)\n",
    "plt.show()\n",
    "\n",
    "print(stats.describe(healthy_smoker1['charges']))\n",
    "print(stats.describe(healthy_nonsmoker1['charges']))\n",
    "\n",
    "\n",
    "# both skewness and kurtosis are close enough normal distro."
   ]
  },
  {
   "cell_type": "code",
   "execution_count": 93,
   "metadata": {},
   "outputs": [
    {
     "data": {
      "text/plain": [
       "Ttest_indResult(statistic=20.843405291628105, pvalue=6.184628923310027e-53)"
      ]
     },
     "execution_count": 93,
     "metadata": {},
     "output_type": "execute_result"
    }
   ],
   "source": [
    "# Conduct the t-test--> p value is close to 0, thus reject null, \n",
    "# ie charges for smoker and non smoker has diff\n",
    "\n",
    "stats.ttest_ind(healthy_smoker1['charges'], healthy_nonsmoker1['charges'])"
   ]
  },
  {
   "cell_type": "code",
   "execution_count": 94,
   "metadata": {},
   "outputs": [
    {
     "data": {
      "text/plain": [
       "'The difference in means at the 95% confidence interval (two-tail) is between -14273.623112348101 and -11910.649548367452.'"
      ]
     },
     "execution_count": 94,
     "metadata": {},
     "output_type": "execute_result"
    }
   ],
   "source": [
    "# Confidence interval: lets get down to the charges to see how much is the difference.\n",
    "\n",
    "get_95_ci(healthy_smoker1['charges'], healthy_nonsmoker1['charges'])\n",
    "                                                         \n",
    "# smokers are paying 12k to 14k more than non smokers do on a 95% confidence interval. \n",
    "# that is a lot of money! \n",
    "# smokers: even you are healthy, you still pay more!"
   ]
  },
  {
   "cell_type": "markdown",
   "metadata": {},
   "source": [
    "# Results\n",
    "\n",
    "Based on visual inspection, there are obvious outliars in the selected datasets and subgroups, so I used the 1.5 IQR rule to take out the outliars and continue with the analysis. \n",
    "\n",
    "Based on the skewness and kutosis close enough to normal distribution after taking out the outliars, I proceeded with the t-test. Based on a close to zero p-value, I reject the null that there is no significant difference in means.\n",
    "\n",
    "The 95% confidence interval(two-tail) suggests that:\n",
    "\n",
    "1. The difference in means for non smokers and smokers groups is between -25865.76609456014 and -23077.716092358227.\n",
    "\n",
    "2. The difference in means for healthy nonsmokers and healthy smokers is between -14273.623112348101 and -11910.649548367452.\n",
    "\n"
   ]
  },
  {
   "cell_type": "markdown",
   "metadata": {},
   "source": [
    "# Discussion and recommendation\n",
    "\n",
    "Some smokers would think as long as they are healthy, they have no differences compare to nonsmokers. However, it is not exactly true. While being healthy does help smokers pay less \n",
    "for insurance charges compare to their less healthy club members, they still pay significantly more than nonsmokers. \n",
    "\n",
    "One issue in this design is that BMI does not fully represent a person's healthy level, nor is it the sole factor to determin insuarance charges. \n",
    "\n",
    "As a next step in the process, let's examine whether there are other factors beside bmi can help smokers reduce their insurance charges, such as age, region, education level. We can examine thro A/B testing to see the results. I would like to have geographic data along with physical data to do further analysis.\n",
    "\n"
   ]
  },
  {
   "cell_type": "code",
   "execution_count": null,
   "metadata": {},
   "outputs": [],
   "source": []
  }
 ],
 "metadata": {
  "kernelspec": {
   "display_name": "Python 3",
   "language": "python",
   "name": "python3"
  },
  "language_info": {
   "codemirror_mode": {
    "name": "ipython",
    "version": 3
   },
   "file_extension": ".py",
   "mimetype": "text/x-python",
   "name": "python",
   "nbconvert_exporter": "python",
   "pygments_lexer": "ipython3",
   "version": "3.7.1"
  }
 },
 "nbformat": 4,
 "nbformat_minor": 2
}
